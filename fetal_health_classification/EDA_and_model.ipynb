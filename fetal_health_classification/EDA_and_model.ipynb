{
 "cells": [
  {
   "cell_type": "markdown",
   "id": "1a71936d",
   "metadata": {},
   "source": [
    "#### Fetal Health prediction-classification analysis \n",
    "\n",
    "##### overview \n",
    "\n",
    "This analysis aims to predicts fetal health status  to allow Doctors and health care professions to act fast, in low and limited resource settings by identifying mothers with abnormal features on cardiotocogram. \n",
    "\n",
    "##### Problem\n",
    "Child and Maternal Health is one of  critical issues facing our country, The UN expects by 2030, countries to end preventable death of Newborns and Under 5 years children. With the aim to reduce to at least as low as 25 per 1000.\n",
    "\n",
    "Parallel to child mortality, also there is ** maternal mortality in 2017 accounted for 295000 **, and 94% of these occured in LMICs, in which most can be Prevented. \n",
    "\n",
    "Cardiotocogram is small cost effective tool that use ultrasound waves to assess both fetal and maternal health, allowing healthcare professionals to take action immediately \n",
    "\n",
    "##### Key Questions\n",
    "\n",
    "1. what factors  most strongly influence Fetal health status ?\n",
    "2. which Mothers and their babies requires immediate attention versus waiting? \n",
    "\n",
    "\n",
    "\n",
    "##### DATA Description \n",
    "\n",
    "Source : [text](https://www.kaggle.com/datasets/andrewmvd/fetal-health-classification)\n",
    "This dataset contains 2126 records of features extracted from Cardiotocogram exams, which were then classified by three expert obstetritians into 3 classes:\n",
    "\n",
    "1. Normal : 1\n",
    "2. Suspect : 2\n",
    "3. Pathological : 3\n",
    "\n",
    "###### key features: \n",
    "\n",
    "1. baseline value - FHR baseline (beats per minute)\n",
    "2. accelerations - Number of accelerations per second\n",
    "3. fetal_movement - Number of fetal movements per second\n",
    "4. uterine_contractions - Number of uterine contractions per second\n",
    "5. light_decelerations- Number of light decelerations per second\n",
    "6. severe_decelerations- Number of severe decelerations per second\n",
    "7. prolongued_decelerations- Number of prolonged decelerations per second\n",
    "8. abnormal_short_term_variability - Percentage of time with abnormal short term variability\n",
    "9. mean_value_of_short_term_variability  - Mean value of short term variability\n",
    "10. percentage_of_time_with_abnormal_long_term_variability - Percentage of time with abnormal long term variability\n",
    "11. mean_value_of_long_term_variability - Mean value of long term variability\n",
    "12. histogram_width - Width of FHR histogram\n",
    "13. histogram_min - Minimum (low frequency) of FHR histogram\n",
    "14. histogram_max - Maximum (high frequency) of FHR histogram\n",
    "15. histogram_number_of_peaks - Number of histogram peaks\n",
    "16. histogram_number_of_zeroes - Number of histogram zeros\n",
    "17. histogram_mode - Histogram mode\n",
    "18. histogram_mean - Histogram mean\n",
    "19. histogram_median - Histogram median\n",
    "20. histogram_variance - Histogram variance\n",
    "21. histogram_tendency - Histogram tendency\n",
    "\n",
    "\n",
    "\n"
   ]
  },
  {
   "cell_type": "code",
   "execution_count": 1,
   "id": "7e891831",
   "metadata": {},
   "outputs": [],
   "source": [
    "# import the necessary libraries \n",
    "import pandas as pd \n",
    "import numpy as np \n",
    "import matplotlib.pyplot as plt \n",
    "import seaborn as sns\n",
    "\n"
   ]
  },
  {
   "cell_type": "code",
   "execution_count": 2,
   "id": "4d1c9e05",
   "metadata": {},
   "outputs": [
    {
     "name": "stdout",
     "output_type": "stream",
     "text": [
      "<class 'pandas.core.frame.DataFrame'>\n",
      "RangeIndex: 2126 entries, 0 to 2125\n",
      "Data columns (total 22 columns):\n",
      " #   Column                                                  Non-Null Count  Dtype  \n",
      "---  ------                                                  --------------  -----  \n",
      " 0   baseline value                                          2126 non-null   float64\n",
      " 1   accelerations                                           2126 non-null   float64\n",
      " 2   fetal_movement                                          2126 non-null   float64\n",
      " 3   uterine_contractions                                    2126 non-null   float64\n",
      " 4   light_decelerations                                     2126 non-null   float64\n",
      " 5   severe_decelerations                                    2126 non-null   float64\n",
      " 6   prolongued_decelerations                                2126 non-null   float64\n",
      " 7   abnormal_short_term_variability                         2126 non-null   float64\n",
      " 8   mean_value_of_short_term_variability                    2126 non-null   float64\n",
      " 9   percentage_of_time_with_abnormal_long_term_variability  2126 non-null   float64\n",
      " 10  mean_value_of_long_term_variability                     2126 non-null   float64\n",
      " 11  histogram_width                                         2126 non-null   float64\n",
      " 12  histogram_min                                           2126 non-null   float64\n",
      " 13  histogram_max                                           2126 non-null   float64\n",
      " 14  histogram_number_of_peaks                               2126 non-null   float64\n",
      " 15  histogram_number_of_zeroes                              2126 non-null   float64\n",
      " 16  histogram_mode                                          2126 non-null   float64\n",
      " 17  histogram_mean                                          2126 non-null   float64\n",
      " 18  histogram_median                                        2126 non-null   float64\n",
      " 19  histogram_variance                                      2126 non-null   float64\n",
      " 20  histogram_tendency                                      2126 non-null   float64\n",
      " 21  fetal_health                                            2126 non-null   float64\n",
      "dtypes: float64(22)\n",
      "memory usage: 365.5 KB\n"
     ]
    }
   ],
   "source": [
    "#import the dataframe \n",
    "\n",
    "df = pd.read_csv('fetal_health.csv')\n",
    "df.info()"
   ]
  },
  {
   "cell_type": "markdown",
   "id": "3e7e59c6",
   "metadata": {},
   "source": [
    "###### Real -Life case scenario \n",
    "\n",
    "Metrics read on CTG : \n",
    "- baseline fetal heart rate : recorded over 10 minutes interval \n",
    "\n",
    "periodicity\n",
    "- accelerations : > 15 beats per minutes for more than 15 seconds  , its normal\n",
    "- decelerations: drop in baseline fetal heart rate from the baseline \n",
    "\n",
    "Variability: \n",
    "- variation from the baseline in period of 15 minutes \n",
    "\n",
    "\n",
    "the strip of CTG has square brackets that has one minute. \n",
    "\n",
    "#### Mapping the features to match real life scenario \n",
    "\n",
    "\n",
    "\n"
   ]
  }
 ],
 "metadata": {
  "kernelspec": {
   "display_name": "Analytics",
   "language": "python",
   "name": "python3"
  },
  "language_info": {
   "codemirror_mode": {
    "name": "ipython",
    "version": 3
   },
   "file_extension": ".py",
   "mimetype": "text/x-python",
   "name": "python",
   "nbconvert_exporter": "python",
   "pygments_lexer": "ipython3",
   "version": "3.12.9"
  }
 },
 "nbformat": 4,
 "nbformat_minor": 5
}
