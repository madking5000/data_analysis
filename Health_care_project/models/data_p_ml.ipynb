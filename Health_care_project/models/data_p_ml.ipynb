{
 "cells": [
  {
   "cell_type": "code",
   "execution_count": 35,
   "id": "34dd619f",
   "metadata": {},
   "outputs": [
    {
     "name": "stdout",
     "output_type": "stream",
     "text": [
      "<class 'pandas.core.frame.DataFrame'>\n",
      "RangeIndex: 55500 entries, 0 to 55499\n",
      "Data columns (total 15 columns):\n",
      " #   Column              Non-Null Count  Dtype  \n",
      "---  ------              --------------  -----  \n",
      " 0   Name                55500 non-null  object \n",
      " 1   Age                 55500 non-null  int64  \n",
      " 2   Gender              55500 non-null  object \n",
      " 3   Blood Type          55500 non-null  object \n",
      " 4   Medical Condition   55500 non-null  object \n",
      " 5   Date of Admission   55500 non-null  object \n",
      " 6   Doctor              55500 non-null  object \n",
      " 7   Hospital            55500 non-null  object \n",
      " 8   Insurance Provider  55500 non-null  object \n",
      " 9   Billing Amount      55500 non-null  float64\n",
      " 10  Room Number         55500 non-null  int64  \n",
      " 11  Admission Type      55500 non-null  object \n",
      " 12  Discharge Date      55500 non-null  object \n",
      " 13  Medication          55500 non-null  object \n",
      " 14  Test Results        55500 non-null  object \n",
      "dtypes: float64(1), int64(2), object(12)\n",
      "memory usage: 6.4+ MB\n"
     ]
    }
   ],
   "source": [
    "#import the basic libraries for exploration \n",
    "import pandas as pd \n",
    "import numpy as np \n",
    "from matplotlib import pyplot as plt\n",
    "import seaborn as sns \n",
    "\n",
    "\n",
    "\n",
    "#import the dataset\n",
    "data = pd.read_csv('F:/Data science/projects/data_analysis/Health_care_project/data/healthcare_dataset.csv')\n",
    "data.info()"
   ]
  },
  {
   "cell_type": "code",
   "execution_count": 13,
   "id": "b3bbd439",
   "metadata": {},
   "outputs": [
    {
     "data": {
      "application/vnd.microsoft.datawrangler.viewer.v0+json": {
       "columns": [
        {
         "name": "index",
         "rawType": "object",
         "type": "string"
        },
        {
         "name": "Age",
         "rawType": "float64",
         "type": "float"
        },
        {
         "name": "Billing Amount",
         "rawType": "float64",
         "type": "float"
        }
       ],
       "ref": "fc9caffe-b2b5-48e6-b49f-ea0b1277d80f",
       "rows": [
        [
         "count",
         "55500.0",
         "55500.0"
        ],
        [
         "mean",
         "51.53945945945946",
         "25539.316097211795"
        ],
        [
         "std",
         "19.602453808514348",
         "14211.454430864414"
        ],
        [
         "min",
         "13.0",
         "-2008.4921398591305"
        ],
        [
         "25%",
         "35.0",
         "13241.224652365136"
        ],
        [
         "50%",
         "52.0",
         "25538.069375965664"
        ],
        [
         "75%",
         "68.0",
         "37820.508435784795"
        ],
        [
         "max",
         "89.0",
         "52764.276736469175"
        ]
       ],
       "shape": {
        "columns": 2,
        "rows": 8
       }
      },
      "text/html": [
       "<div>\n",
       "<style scoped>\n",
       "    .dataframe tbody tr th:only-of-type {\n",
       "        vertical-align: middle;\n",
       "    }\n",
       "\n",
       "    .dataframe tbody tr th {\n",
       "        vertical-align: top;\n",
       "    }\n",
       "\n",
       "    .dataframe thead th {\n",
       "        text-align: right;\n",
       "    }\n",
       "</style>\n",
       "<table border=\"1\" class=\"dataframe\">\n",
       "  <thead>\n",
       "    <tr style=\"text-align: right;\">\n",
       "      <th></th>\n",
       "      <th>Age</th>\n",
       "      <th>Billing Amount</th>\n",
       "    </tr>\n",
       "  </thead>\n",
       "  <tbody>\n",
       "    <tr>\n",
       "      <th>count</th>\n",
       "      <td>55500.000000</td>\n",
       "      <td>55500.000000</td>\n",
       "    </tr>\n",
       "    <tr>\n",
       "      <th>mean</th>\n",
       "      <td>51.539459</td>\n",
       "      <td>25539.316097</td>\n",
       "    </tr>\n",
       "    <tr>\n",
       "      <th>std</th>\n",
       "      <td>19.602454</td>\n",
       "      <td>14211.454431</td>\n",
       "    </tr>\n",
       "    <tr>\n",
       "      <th>min</th>\n",
       "      <td>13.000000</td>\n",
       "      <td>-2008.492140</td>\n",
       "    </tr>\n",
       "    <tr>\n",
       "      <th>25%</th>\n",
       "      <td>35.000000</td>\n",
       "      <td>13241.224652</td>\n",
       "    </tr>\n",
       "    <tr>\n",
       "      <th>50%</th>\n",
       "      <td>52.000000</td>\n",
       "      <td>25538.069376</td>\n",
       "    </tr>\n",
       "    <tr>\n",
       "      <th>75%</th>\n",
       "      <td>68.000000</td>\n",
       "      <td>37820.508436</td>\n",
       "    </tr>\n",
       "    <tr>\n",
       "      <th>max</th>\n",
       "      <td>89.000000</td>\n",
       "      <td>52764.276736</td>\n",
       "    </tr>\n",
       "  </tbody>\n",
       "</table>\n",
       "</div>"
      ],
      "text/plain": [
       "                Age  Billing Amount\n",
       "count  55500.000000    55500.000000\n",
       "mean      51.539459    25539.316097\n",
       "std       19.602454    14211.454431\n",
       "min       13.000000    -2008.492140\n",
       "25%       35.000000    13241.224652\n",
       "50%       52.000000    25538.069376\n",
       "75%       68.000000    37820.508436\n",
       "max       89.000000    52764.276736"
      ]
     },
     "execution_count": 13,
     "metadata": {},
     "output_type": "execute_result"
    }
   ],
   "source": [
    "#explore the numerical variables \n",
    "numerical_vals = ['Age', 'Billing Amount']\n",
    "\n",
    "#describe the data at first glance \n",
    "data[numerical_vals].describe()\n",
    "\n",
    "#from the view we have a negative Minimum value in Billing amount"
   ]
  },
  {
   "cell_type": "code",
   "execution_count": 21,
   "id": "a692066a",
   "metadata": {},
   "outputs": [
    {
     "data": {
      "application/vnd.microsoft.datawrangler.viewer.v0+json": {
       "columns": [
        {
         "name": "index",
         "rawType": "int64",
         "type": "integer"
        },
        {
         "name": "Name",
         "rawType": "object",
         "type": "string"
        },
        {
         "name": "Gender",
         "rawType": "object",
         "type": "string"
        },
        {
         "name": "Blood Type",
         "rawType": "object",
         "type": "string"
        },
        {
         "name": "Medical Condition",
         "rawType": "object",
         "type": "string"
        },
        {
         "name": "Date of Admission",
         "rawType": "object",
         "type": "string"
        },
        {
         "name": "Doctor",
         "rawType": "object",
         "type": "string"
        },
        {
         "name": "Hospital",
         "rawType": "object",
         "type": "string"
        },
        {
         "name": "Insurance Provider",
         "rawType": "object",
         "type": "string"
        },
        {
         "name": "Admission Type",
         "rawType": "object",
         "type": "string"
        },
        {
         "name": "Discharge Date",
         "rawType": "object",
         "type": "string"
        },
        {
         "name": "Medication",
         "rawType": "object",
         "type": "string"
        },
        {
         "name": "Test Results",
         "rawType": "object",
         "type": "string"
        }
       ],
       "ref": "07c29782-6722-47de-9e6b-e3276383d9fc",
       "rows": [
        [
         "0",
         "Bobby JacksOn",
         "Male",
         "B-",
         "Cancer",
         "2024-01-31",
         "Matthew Smith",
         "Sons and Miller",
         "Blue Cross",
         "Urgent",
         "2024-02-02",
         "Paracetamol",
         "Normal"
        ],
        [
         "1",
         "LesLie TErRy",
         "Male",
         "A+",
         "Obesity",
         "2019-08-20",
         "Samantha Davies",
         "Kim Inc",
         "Medicare",
         "Emergency",
         "2019-08-26",
         "Ibuprofen",
         "Inconclusive"
        ],
        [
         "2",
         "DaNnY sMitH",
         "Female",
         "A-",
         "Obesity",
         "2022-09-22",
         "Tiffany Mitchell",
         "Cook PLC",
         "Aetna",
         "Emergency",
         "2022-10-07",
         "Aspirin",
         "Normal"
        ],
        [
         "3",
         "andrEw waTtS",
         "Female",
         "O+",
         "Diabetes",
         "2020-11-18",
         "Kevin Wells",
         "Hernandez Rogers and Vang,",
         "Medicare",
         "Elective",
         "2020-12-18",
         "Ibuprofen",
         "Abnormal"
        ],
        [
         "4",
         "adrIENNE bEll",
         "Female",
         "AB+",
         "Cancer",
         "2022-09-19",
         "Kathleen Hanna",
         "White-White",
         "Aetna",
         "Urgent",
         "2022-10-09",
         "Penicillin",
         "Abnormal"
        ]
       ],
       "shape": {
        "columns": 12,
        "rows": 5
       }
      },
      "text/html": [
       "<div>\n",
       "<style scoped>\n",
       "    .dataframe tbody tr th:only-of-type {\n",
       "        vertical-align: middle;\n",
       "    }\n",
       "\n",
       "    .dataframe tbody tr th {\n",
       "        vertical-align: top;\n",
       "    }\n",
       "\n",
       "    .dataframe thead th {\n",
       "        text-align: right;\n",
       "    }\n",
       "</style>\n",
       "<table border=\"1\" class=\"dataframe\">\n",
       "  <thead>\n",
       "    <tr style=\"text-align: right;\">\n",
       "      <th></th>\n",
       "      <th>Name</th>\n",
       "      <th>Gender</th>\n",
       "      <th>Blood Type</th>\n",
       "      <th>Medical Condition</th>\n",
       "      <th>Date of Admission</th>\n",
       "      <th>Doctor</th>\n",
       "      <th>Hospital</th>\n",
       "      <th>Insurance Provider</th>\n",
       "      <th>Admission Type</th>\n",
       "      <th>Discharge Date</th>\n",
       "      <th>Medication</th>\n",
       "      <th>Test Results</th>\n",
       "    </tr>\n",
       "  </thead>\n",
       "  <tbody>\n",
       "    <tr>\n",
       "      <th>0</th>\n",
       "      <td>Bobby JacksOn</td>\n",
       "      <td>Male</td>\n",
       "      <td>B-</td>\n",
       "      <td>Cancer</td>\n",
       "      <td>2024-01-31</td>\n",
       "      <td>Matthew Smith</td>\n",
       "      <td>Sons and Miller</td>\n",
       "      <td>Blue Cross</td>\n",
       "      <td>Urgent</td>\n",
       "      <td>2024-02-02</td>\n",
       "      <td>Paracetamol</td>\n",
       "      <td>Normal</td>\n",
       "    </tr>\n",
       "    <tr>\n",
       "      <th>1</th>\n",
       "      <td>LesLie TErRy</td>\n",
       "      <td>Male</td>\n",
       "      <td>A+</td>\n",
       "      <td>Obesity</td>\n",
       "      <td>2019-08-20</td>\n",
       "      <td>Samantha Davies</td>\n",
       "      <td>Kim Inc</td>\n",
       "      <td>Medicare</td>\n",
       "      <td>Emergency</td>\n",
       "      <td>2019-08-26</td>\n",
       "      <td>Ibuprofen</td>\n",
       "      <td>Inconclusive</td>\n",
       "    </tr>\n",
       "    <tr>\n",
       "      <th>2</th>\n",
       "      <td>DaNnY sMitH</td>\n",
       "      <td>Female</td>\n",
       "      <td>A-</td>\n",
       "      <td>Obesity</td>\n",
       "      <td>2022-09-22</td>\n",
       "      <td>Tiffany Mitchell</td>\n",
       "      <td>Cook PLC</td>\n",
       "      <td>Aetna</td>\n",
       "      <td>Emergency</td>\n",
       "      <td>2022-10-07</td>\n",
       "      <td>Aspirin</td>\n",
       "      <td>Normal</td>\n",
       "    </tr>\n",
       "    <tr>\n",
       "      <th>3</th>\n",
       "      <td>andrEw waTtS</td>\n",
       "      <td>Female</td>\n",
       "      <td>O+</td>\n",
       "      <td>Diabetes</td>\n",
       "      <td>2020-11-18</td>\n",
       "      <td>Kevin Wells</td>\n",
       "      <td>Hernandez Rogers and Vang,</td>\n",
       "      <td>Medicare</td>\n",
       "      <td>Elective</td>\n",
       "      <td>2020-12-18</td>\n",
       "      <td>Ibuprofen</td>\n",
       "      <td>Abnormal</td>\n",
       "    </tr>\n",
       "    <tr>\n",
       "      <th>4</th>\n",
       "      <td>adrIENNE bEll</td>\n",
       "      <td>Female</td>\n",
       "      <td>AB+</td>\n",
       "      <td>Cancer</td>\n",
       "      <td>2022-09-19</td>\n",
       "      <td>Kathleen Hanna</td>\n",
       "      <td>White-White</td>\n",
       "      <td>Aetna</td>\n",
       "      <td>Urgent</td>\n",
       "      <td>2022-10-09</td>\n",
       "      <td>Penicillin</td>\n",
       "      <td>Abnormal</td>\n",
       "    </tr>\n",
       "  </tbody>\n",
       "</table>\n",
       "</div>"
      ],
      "text/plain": [
       "            Name  Gender Blood Type Medical Condition Date of Admission  \\\n",
       "0  Bobby JacksOn    Male         B-            Cancer        2024-01-31   \n",
       "1   LesLie TErRy    Male         A+           Obesity        2019-08-20   \n",
       "2    DaNnY sMitH  Female         A-           Obesity        2022-09-22   \n",
       "3   andrEw waTtS  Female         O+          Diabetes        2020-11-18   \n",
       "4  adrIENNE bEll  Female        AB+            Cancer        2022-09-19   \n",
       "\n",
       "             Doctor                    Hospital Insurance Provider  \\\n",
       "0     Matthew Smith             Sons and Miller         Blue Cross   \n",
       "1   Samantha Davies                     Kim Inc           Medicare   \n",
       "2  Tiffany Mitchell                    Cook PLC              Aetna   \n",
       "3       Kevin Wells  Hernandez Rogers and Vang,           Medicare   \n",
       "4    Kathleen Hanna                 White-White              Aetna   \n",
       "\n",
       "  Admission Type Discharge Date   Medication  Test Results  \n",
       "0         Urgent     2024-02-02  Paracetamol        Normal  \n",
       "1      Emergency     2019-08-26    Ibuprofen  Inconclusive  \n",
       "2      Emergency     2022-10-07      Aspirin        Normal  \n",
       "3       Elective     2020-12-18    Ibuprofen      Abnormal  \n",
       "4         Urgent     2022-10-09   Penicillin      Abnormal  "
      ]
     },
     "execution_count": 21,
     "metadata": {},
     "output_type": "execute_result"
    }
   ],
   "source": [
    "data.select_dtypes(object).head()"
   ]
  },
  {
   "cell_type": "code",
   "execution_count": 52,
   "id": "37ec2b8e",
   "metadata": {},
   "outputs": [],
   "source": [
    "# create a function that creates a finalized dataset that cleans the data \n",
    "\n",
    "def wrangle(df):\n",
    "    \n",
    "    #drop the columns of doctor name  and hospital \n",
    "    df = df.drop(columns=['Name', 'Doctor', 'Hospital'])\n",
    "\n",
    "    #create a new columns that calculates the duration of hospital stay \n",
    "    df['Date of Admission'] = pd.to_datetime(df['Date of Admission'])\n",
    "    df['Discharge Date'] = pd.to_datetime(df['Discharge Date'])\n",
    "    df['hospital_stay'] = (df['Discharge Date'] - df['Date of Admission']).dt.total_seconds() /86400\n",
    "\n",
    "    #drop the date of admission and Discharge date columns \n",
    "    df.drop(columns=['Date of Admission', 'Discharge Date', 'Room Number'], inplace=True)\n",
    "\n",
    "    #Map the following data into specific encoders \n",
    "    df['Gender'] = df['Gender'].map({'Male': 1, 'Female': 0})\n",
    "    df['Admission Type'] = df['Admission Type'].map({'Urgent': 0, 'Emergent':1, 'Elective': 2})\n",
    "    df.dropna(inplace=True)\n",
    "    \n",
    "\n",
    "    return df"
   ]
  },
  {
   "cell_type": "code",
   "execution_count": 53,
   "id": "0ee573de",
   "metadata": {},
   "outputs": [
    {
     "data": {
      "application/vnd.microsoft.datawrangler.viewer.v0+json": {
       "columns": [
        {
         "name": "index",
         "rawType": "int64",
         "type": "integer"
        },
        {
         "name": "Age",
         "rawType": "int64",
         "type": "integer"
        },
        {
         "name": "Gender",
         "rawType": "int64",
         "type": "integer"
        },
        {
         "name": "Blood Type",
         "rawType": "object",
         "type": "string"
        },
        {
         "name": "Medical Condition",
         "rawType": "object",
         "type": "string"
        },
        {
         "name": "Insurance Provider",
         "rawType": "object",
         "type": "string"
        },
        {
         "name": "Billing Amount",
         "rawType": "float64",
         "type": "float"
        },
        {
         "name": "Admission Type",
         "rawType": "float64",
         "type": "float"
        },
        {
         "name": "Medication",
         "rawType": "object",
         "type": "string"
        },
        {
         "name": "Test Results",
         "rawType": "object",
         "type": "string"
        },
        {
         "name": "hospital_stay",
         "rawType": "float64",
         "type": "float"
        }
       ],
       "ref": "c8db7569-20d4-4f4e-a1ef-194f66746c6c",
       "rows": [
        [
         "0",
         "30",
         "1",
         "B-",
         "Cancer",
         "Blue Cross",
         "18856.281305978155",
         "0.0",
         "Paracetamol",
         "Normal",
         "2.0"
        ],
        [
         "3",
         "28",
         "0",
         "O+",
         "Diabetes",
         "Medicare",
         "37909.78240987528",
         "2.0",
         "Ibuprofen",
         "Abnormal",
         "30.0"
        ],
        [
         "4",
         "43",
         "0",
         "AB+",
         "Cancer",
         "Aetna",
         "14238.317813937623",
         "0.0",
         "Penicillin",
         "Abnormal",
         "20.0"
        ],
        [
         "5",
         "36",
         "1",
         "A+",
         "Asthma",
         "UnitedHealthcare",
         "48145.11095104189",
         "0.0",
         "Ibuprofen",
         "Normal",
         "4.0"
        ],
        [
         "8",
         "82",
         "1",
         "AB+",
         "Asthma",
         "Cigna",
         "50119.222791548505",
         "2.0",
         "Aspirin",
         "Abnormal",
         "13.0"
        ]
       ],
       "shape": {
        "columns": 10,
        "rows": 5
       }
      },
      "text/html": [
       "<div>\n",
       "<style scoped>\n",
       "    .dataframe tbody tr th:only-of-type {\n",
       "        vertical-align: middle;\n",
       "    }\n",
       "\n",
       "    .dataframe tbody tr th {\n",
       "        vertical-align: top;\n",
       "    }\n",
       "\n",
       "    .dataframe thead th {\n",
       "        text-align: right;\n",
       "    }\n",
       "</style>\n",
       "<table border=\"1\" class=\"dataframe\">\n",
       "  <thead>\n",
       "    <tr style=\"text-align: right;\">\n",
       "      <th></th>\n",
       "      <th>Age</th>\n",
       "      <th>Gender</th>\n",
       "      <th>Blood Type</th>\n",
       "      <th>Medical Condition</th>\n",
       "      <th>Insurance Provider</th>\n",
       "      <th>Billing Amount</th>\n",
       "      <th>Admission Type</th>\n",
       "      <th>Medication</th>\n",
       "      <th>Test Results</th>\n",
       "      <th>hospital_stay</th>\n",
       "    </tr>\n",
       "  </thead>\n",
       "  <tbody>\n",
       "    <tr>\n",
       "      <th>0</th>\n",
       "      <td>30</td>\n",
       "      <td>1</td>\n",
       "      <td>B-</td>\n",
       "      <td>Cancer</td>\n",
       "      <td>Blue Cross</td>\n",
       "      <td>18856.281306</td>\n",
       "      <td>0.0</td>\n",
       "      <td>Paracetamol</td>\n",
       "      <td>Normal</td>\n",
       "      <td>2.0</td>\n",
       "    </tr>\n",
       "    <tr>\n",
       "      <th>3</th>\n",
       "      <td>28</td>\n",
       "      <td>0</td>\n",
       "      <td>O+</td>\n",
       "      <td>Diabetes</td>\n",
       "      <td>Medicare</td>\n",
       "      <td>37909.782410</td>\n",
       "      <td>2.0</td>\n",
       "      <td>Ibuprofen</td>\n",
       "      <td>Abnormal</td>\n",
       "      <td>30.0</td>\n",
       "    </tr>\n",
       "    <tr>\n",
       "      <th>4</th>\n",
       "      <td>43</td>\n",
       "      <td>0</td>\n",
       "      <td>AB+</td>\n",
       "      <td>Cancer</td>\n",
       "      <td>Aetna</td>\n",
       "      <td>14238.317814</td>\n",
       "      <td>0.0</td>\n",
       "      <td>Penicillin</td>\n",
       "      <td>Abnormal</td>\n",
       "      <td>20.0</td>\n",
       "    </tr>\n",
       "    <tr>\n",
       "      <th>5</th>\n",
       "      <td>36</td>\n",
       "      <td>1</td>\n",
       "      <td>A+</td>\n",
       "      <td>Asthma</td>\n",
       "      <td>UnitedHealthcare</td>\n",
       "      <td>48145.110951</td>\n",
       "      <td>0.0</td>\n",
       "      <td>Ibuprofen</td>\n",
       "      <td>Normal</td>\n",
       "      <td>4.0</td>\n",
       "    </tr>\n",
       "    <tr>\n",
       "      <th>8</th>\n",
       "      <td>82</td>\n",
       "      <td>1</td>\n",
       "      <td>AB+</td>\n",
       "      <td>Asthma</td>\n",
       "      <td>Cigna</td>\n",
       "      <td>50119.222792</td>\n",
       "      <td>2.0</td>\n",
       "      <td>Aspirin</td>\n",
       "      <td>Abnormal</td>\n",
       "      <td>13.0</td>\n",
       "    </tr>\n",
       "  </tbody>\n",
       "</table>\n",
       "</div>"
      ],
      "text/plain": [
       "   Age  Gender Blood Type Medical Condition Insurance Provider  \\\n",
       "0   30       1         B-            Cancer         Blue Cross   \n",
       "3   28       0         O+          Diabetes           Medicare   \n",
       "4   43       0        AB+            Cancer              Aetna   \n",
       "5   36       1         A+            Asthma   UnitedHealthcare   \n",
       "8   82       1        AB+            Asthma              Cigna   \n",
       "\n",
       "   Billing Amount  Admission Type   Medication Test Results  hospital_stay  \n",
       "0    18856.281306             0.0  Paracetamol       Normal            2.0  \n",
       "3    37909.782410             2.0    Ibuprofen     Abnormal           30.0  \n",
       "4    14238.317814             0.0   Penicillin     Abnormal           20.0  \n",
       "5    48145.110951             0.0    Ibuprofen       Normal            4.0  \n",
       "8    50119.222792             2.0      Aspirin     Abnormal           13.0  "
      ]
     },
     "execution_count": 53,
     "metadata": {},
     "output_type": "execute_result"
    }
   ],
   "source": [
    "df = wrangle(data)\n",
    "df.head()"
   ]
  },
  {
   "cell_type": "code",
   "execution_count": 55,
   "id": "7a8cd297",
   "metadata": {},
   "outputs": [
    {
     "data": {
      "text/plain": [
       "(37231, 10)"
      ]
     },
     "execution_count": 55,
     "metadata": {},
     "output_type": "execute_result"
    }
   ],
   "source": [
    "df.shape\n"
   ]
  },
  {
   "cell_type": "code",
   "execution_count": 61,
   "id": "3612ab7f",
   "metadata": {},
   "outputs": [
    {
     "data": {
      "image/png": "[encoded data removed]",
      "text/plain": [
       "<Figure size 1500x2000 with 5 Axes>"
      ]
     },
     "metadata": {},
     "output_type": "display_data"
    }
   ],
   "source": [
    "#lets firs explore the relation between categorical variables and Hospital bill\n",
    "cat_val = df.select_dtypes(object).columns.tolist()\n",
    "plt.figure(figsize=(15,20))\n",
    "for i, name in enumerate(cat_val):\n",
    "    \n",
    "    plt.subplot(3,2, i+1)\n",
    "    sns.boxplot(x=name, y='Billing Amount', data=df)\n",
    "    plt.title(f'box plot of {name} in relation to Billing amount')\n",
    "    plt.tight_layout()\n",
    "plt.show()"
   ]
  },
  {
   "cell_type": "code",
   "execution_count": 65,
   "id": "93934246",
   "metadata": {},
   "outputs": [
    {
     "data": {
      "text/plain": [
       "['Blood Type',\n",
       " 'Medical Condition',\n",
       " 'Insurance Provider',\n",
       " 'Medication',\n",
       " 'Test Results']"
      ]
     },
     "execution_count": 65,
     "metadata": {},
     "output_type": "execute_result"
    }
   ],
   "source": [
    "cat_val"
   ]
  },
  {
   "cell_type": "code",
   "execution_count": 67,
   "id": "fecd154c",
   "metadata": {},
   "outputs": [
    {
     "data": {
      "text/plain": [
       "(29784, 31)"
      ]
     },
     "execution_count": 67,
     "metadata": {},
     "output_type": "execute_result"
    }
   ],
   "source": [
    "from category_encoders import OneHotEncoder\n",
    "from sklearn.model_selection import train_test_split\n",
    "\n",
    "encoder = OneHotEncoder(use_cat_names=True)\n",
    "\n",
    "#split into Features and target variables \n",
    "X = df.drop(columns='Billing Amount')\n",
    "y = df['Billing Amount']\n",
    "\n",
    "#split into training and testing data \n",
    "X_train, X_test, y_train, y_test = train_test_split(X, y, test_size=0.2, random_state=42)\n",
    "\n",
    "#X_train encoded \n",
    "XT_train = encoder.fit_transform(X_train)\n",
    "XT_test = encoder.transform(X_test)\n",
    "\n",
    "#print the shapes \n",
    "XT_train.shape\n",
    "\n"
   ]
  },
  {
   "cell_type": "code",
   "execution_count": 70,
   "id": "170fb442",
   "metadata": {},
   "outputs": [
    {
     "data": {
      "application/vnd.microsoft.datawrangler.viewer.v0+json": {
       "columns": [
        {
         "name": "index",
         "rawType": "int64",
         "type": "integer"
        },
        {
         "name": "model",
         "rawType": "object",
         "type": "string"
        },
        {
         "name": "score_train",
         "rawType": "float64",
         "type": "float"
        },
        {
         "name": "score_test",
         "rawType": "float64",
         "type": "float"
        },
        {
         "name": "mae_train",
         "rawType": "float64",
         "type": "float"
        },
        {
         "name": "mae_test",
         "rawType": "float64",
         "type": "float"
        },
        {
         "name": "rmse_train",
         "rawType": "float64",
         "type": "float"
        },
        {
         "name": "rmse_test",
         "rawType": "float64",
         "type": "float"
        },
        {
         "name": "r2_train",
         "rawType": "float64",
         "type": "float"
        },
        {
         "name": "r2_test",
         "rawType": "float64",
         "type": "float"
        },
        {
         "name": "training_time",
         "rawType": "float64",
         "type": "float"
        }
       ],
       "ref": "ba5515a4-ec32-4fab-ab42-cd583bd16668",
       "rows": [
        [
         "0",
         "Linear_regression",
         "0.0010344271591345988",
         "-0.0010885254131252076",
         "12273.856066643773",
         "12458.68037951853",
         "110.78743641155243",
         "111.6184589551322",
         "0.0010344271591345988",
         "-0.0010885254131252076",
         "0.10015678405761719"
        ],
        [
         "1",
         "Random_regressor",
         "0.8663530134120894",
         "0.04532561113268607",
         "4342.022394363587",
         "11916.25821220376",
         "65.89402396548255",
         "109.16161510441187",
         "0.8663530134120894",
         "0.04532561113268607",
         "18.87210774421692"
        ],
        [
         "2",
         "SVM",
         "-1.3242596747398139e-05",
         "-0.00045610970989828914",
         "12283.046265974748",
         "12456.39467105932",
         "110.8289053720858",
         "111.60821954972367",
         "-1.3242596747398139e-05",
         "-0.00045610970989828914",
         "208.54020595550537"
        ],
        [
         "3",
         "Nearest_neighbors",
         "0.2213370347830439",
         "-0.15834160524538077",
         "10478.887299388503",
         "13013.769429981572",
         "102.36643639097976",
         "114.07790947410271",
         "0.2213370347830439",
         "-0.15834160524538077",
         "3.022456169128418"
        ]
       ],
       "shape": {
        "columns": 10,
        "rows": 4
       }
      },
      "text/html": [
       "<div>\n",
       "<style scoped>\n",
       "    .dataframe tbody tr th:only-of-type {\n",
       "        vertical-align: middle;\n",
       "    }\n",
       "\n",
       "    .dataframe tbody tr th {\n",
       "        vertical-align: top;\n",
       "    }\n",
       "\n",
       "    .dataframe thead th {\n",
       "        text-align: right;\n",
       "    }\n",
       "</style>\n",
       "<table border=\"1\" class=\"dataframe\">\n",
       "  <thead>\n",
       "    <tr style=\"text-align: right;\">\n",
       "      <th></th>\n",
       "      <th>model</th>\n",
       "      <th>score_train</th>\n",
       "      <th>score_test</th>\n",
       "      <th>mae_train</th>\n",
       "      <th>mae_test</th>\n",
       "      <th>rmse_train</th>\n",
       "      <th>rmse_test</th>\n",
       "      <th>r2_train</th>\n",
       "      <th>r2_test</th>\n",
       "      <th>training_time</th>\n",
       "    </tr>\n",
       "  </thead>\n",
       "  <tbody>\n",
       "    <tr>\n",
       "      <th>0</th>\n",
       "      <td>Linear_regression</td>\n",
       "      <td>0.001034</td>\n",
       "      <td>-0.001089</td>\n",
       "      <td>12273.856067</td>\n",
       "      <td>12458.680380</td>\n",
       "      <td>110.787436</td>\n",
       "      <td>111.618459</td>\n",
       "      <td>0.001034</td>\n",
       "      <td>-0.001089</td>\n",
       "      <td>0.100157</td>\n",
       "    </tr>\n",
       "    <tr>\n",
       "      <th>1</th>\n",
       "      <td>Random_regressor</td>\n",
       "      <td>0.866353</td>\n",
       "      <td>0.045326</td>\n",
       "      <td>4342.022394</td>\n",
       "      <td>11916.258212</td>\n",
       "      <td>65.894024</td>\n",
       "      <td>109.161615</td>\n",
       "      <td>0.866353</td>\n",
       "      <td>0.045326</td>\n",
       "      <td>18.872108</td>\n",
       "    </tr>\n",
       "    <tr>\n",
       "      <th>2</th>\n",
       "      <td>SVM</td>\n",
       "      <td>-0.000013</td>\n",
       "      <td>-0.000456</td>\n",
       "      <td>12283.046266</td>\n",
       "      <td>12456.394671</td>\n",
       "      <td>110.828905</td>\n",
       "      <td>111.608220</td>\n",
       "      <td>-0.000013</td>\n",
       "      <td>-0.000456</td>\n",
       "      <td>208.540206</td>\n",
       "    </tr>\n",
       "    <tr>\n",
       "      <th>3</th>\n",
       "      <td>Nearest_neighbors</td>\n",
       "      <td>0.221337</td>\n",
       "      <td>-0.158342</td>\n",
       "      <td>10478.887299</td>\n",
       "      <td>13013.769430</td>\n",
       "      <td>102.366436</td>\n",
       "      <td>114.077909</td>\n",
       "      <td>0.221337</td>\n",
       "      <td>-0.158342</td>\n",
       "      <td>3.022456</td>\n",
       "    </tr>\n",
       "  </tbody>\n",
       "</table>\n",
       "</div>"
      ],
      "text/plain": [
       "               model  score_train  score_test     mae_train      mae_test  \\\n",
       "0  Linear_regression     0.001034   -0.001089  12273.856067  12458.680380   \n",
       "1   Random_regressor     0.866353    0.045326   4342.022394  11916.258212   \n",
       "2                SVM    -0.000013   -0.000456  12283.046266  12456.394671   \n",
       "3  Nearest_neighbors     0.221337   -0.158342  10478.887299  13013.769430   \n",
       "\n",
       "   rmse_train   rmse_test  r2_train   r2_test  training_time  \n",
       "0  110.787436  111.618459  0.001034 -0.001089       0.100157  \n",
       "1   65.894024  109.161615  0.866353  0.045326      18.872108  \n",
       "2  110.828905  111.608220 -0.000013 -0.000456     208.540206  \n",
       "3  102.366436  114.077909  0.221337 -0.158342       3.022456  "
      ]
     },
     "execution_count": 70,
     "metadata": {},
     "output_type": "execute_result"
    }
   ],
   "source": [
    "#lets instantiate basic models and see how they work\n",
    "from sklearn.linear_model import LinearRegression\n",
    "from sklearn.ensemble import RandomForestRegressor\n",
    "from sklearn.svm import SVR\n",
    "from sklearn.neighbors import KNeighborsRegressor\n",
    "import time\n",
    "from sklearn.metrics import mean_absolute_error, r2_score\n",
    "\n",
    "\n",
    "models = {\n",
    "    'Linear_regression': LinearRegression(),\n",
    "    'Random_regressor': RandomForestRegressor(),\n",
    "    'SVM': SVR(),\n",
    "    'Nearest_neighbors': KNeighborsRegressor()\n",
    "}\n",
    "\n",
    "results = []\n",
    "\n",
    "for name, model in models.items():\n",
    "    stat = time.time()\n",
    "    model.fit(XT_train, y_train)\n",
    "    #make predictions on test and \n",
    "    y_pred_train = model.predict(XT_train)\n",
    "    y_pred_test = model.predict(XT_test)\n",
    "    duration = time.time() - stat\n",
    "\n",
    "    #make scores \n",
    "    score_train = model.score(XT_train, y_train)\n",
    "    score_test = model.score(XT_test, y_test)\n",
    "\n",
    "    mae_train = mean_absolute_error(y_train, y_pred_train)\n",
    "    mae_test = mean_absolute_error(y_test, y_pred_test)\n",
    "\n",
    "    #root mean squared error\n",
    "    rmse_train = np.sqrt(mae_train)\n",
    "    rmse_test = np.sqrt(mae_test)\n",
    "\n",
    "    #r2 score \n",
    "    r2_train = r2_score(y_train, y_pred_train)\n",
    "    r2_test = r2_score(y_test, y_pred_test)\n",
    "\n",
    "    #append the results \n",
    "    results.append({\n",
    "        'model': name,\n",
    "        'score_train': score_train,\n",
    "        'score_test': score_test,\n",
    "        'mae_train': mae_train,\n",
    "        'mae_test': mae_test,\n",
    "        'rmse_train': rmse_train,\n",
    "        'rmse_test': rmse_test,\n",
    "        'r2_train': r2_train,\n",
    "        'r2_test': r2_test,\n",
    "        'training_time': duration\n",
    "    })\n",
    "\n",
    "\n",
    "results_df = pd.DataFrame(results)\n",
    "results_df.head()\n",
    "\n",
    "\n"
   ]
  },
  {
   "cell_type": "code",
   "execution_count": null,
   "id": "eb8dea09",
   "metadata": {},
   "outputs": [],
   "source": []
  }
 ],
 "metadata": {
  "kernelspec": {
   "display_name": "Analytics",
   "language": "python",
   "name": "python3"
  },
  "language_info": {
   "codemirror_mode": {
    "name": "ipython",
    "version": 3
   },
   "file_extension": ".py",
   "mimetype": "text/x-python",
   "name": "python",
   "nbconvert_exporter": "python",
   "pygments_lexer": "ipython3",
   "version": "3.12.9"
  }
 },
 "nbformat": 4,
 "nbformat_minor": 5
}
