{
 "cells": [
  {
   "cell_type": "code",
   "execution_count": 1,
   "id": "5735e103",
   "metadata": {},
   "outputs": [],
   "source": [
    "import pandas as pd \n",
    "import numpy as np\n",
    "from matplotlib import pyplot as plt\n",
    "%matplotlib inline\n",
    "import matplotlib \n",
    "matplotlib.rcParams['figure.figsize'] = (20,10)"
   ]
  },
  {
   "cell_type": "code",
   "execution_count": 2,
   "id": "a6ee0ed7",
   "metadata": {},
   "outputs": [
    {
     "data": {
      "application/vnd.microsoft.datawrangler.viewer.v0+json": {
       "columns": [
        {
         "name": "index",
         "rawType": "int64",
         "type": "integer"
        },
        {
         "name": "area_type",
         "rawType": "object",
         "type": "string"
        },
        {
         "name": "availability",
         "rawType": "object",
         "type": "string"
        },
        {
         "name": "location",
         "rawType": "object",
         "type": "string"
        },
        {
         "name": "size",
         "rawType": "object",
         "type": "string"
        },
        {
         "name": "society",
         "rawType": "object",
         "type": "unknown"
        },
        {
         "name": "total_sqft",
         "rawType": "object",
         "type": "string"
        },
        {
         "name": "bath",
         "rawType": "float64",
         "type": "float"
        },
        {
         "name": "balcony",
         "rawType": "float64",
         "type": "float"
        },
        {
         "name": "price",
         "rawType": "float64",
         "type": "float"
        }
       ],
       "conversionMethod": "pd.DataFrame",
       "ref": "34552ef6-73b9-4a6a-99c5-7440bd00a88c",
       "rows": [
        [
         "0",
         "Super built-up  Area",
         "19-Dec",
         "Electronic City Phase II",
         "2 BHK",
         "Coomee ",
         "1056",
         "2.0",
         "1.0",
         "39.07"
        ],
        [
         "1",
         "Plot  Area",
         "Ready To Move",
         "Chikka Tirupathi",
         "4 Bedroom",
         "Theanmp",
         "2600",
         "5.0",
         "3.0",
         "120.0"
        ],
        [
         "2",
         "Built-up  Area",
         "Ready To Move",
         "Uttarahalli",
         "3 BHK",
         null,
         "1440",
         "2.0",
         "3.0",
         "62.0"
        ],
        [
         "3",
         "Super built-up  Area",
         "Ready To Move",
         "Lingadheeranahalli",
         "3 BHK",
         "Soiewre",
         "1521",
         "3.0",
         "1.0",
         "95.0"
        ],
        [
         "4",
         "Super built-up  Area",
         "Ready To Move",
         "Kothanur",
         "2 BHK",
         null,
         "1200",
         "2.0",
         "1.0",
         "51.0"
        ]
       ],
       "shape": {
        "columns": 9,
        "rows": 5
       }
      },
      "text/html": [
       "<div>\n",
       "<style scoped>\n",
       "    .dataframe tbody tr th:only-of-type {\n",
       "        vertical-align: middle;\n",
       "    }\n",
       "\n",
       "    .dataframe tbody tr th {\n",
       "        vertical-align: top;\n",
       "    }\n",
       "\n",
       "    .dataframe thead th {\n",
       "        text-align: right;\n",
       "    }\n",
       "</style>\n",
       "<table border=\"1\" class=\"dataframe\">\n",
       "  <thead>\n",
       "    <tr style=\"text-align: right;\">\n",
       "      <th></th>\n",
       "      <th>area_type</th>\n",
       "      <th>availability</th>\n",
       "      <th>location</th>\n",
       "      <th>size</th>\n",
       "      <th>society</th>\n",
       "      <th>total_sqft</th>\n",
       "      <th>bath</th>\n",
       "      <th>balcony</th>\n",
       "      <th>price</th>\n",
       "    </tr>\n",
       "  </thead>\n",
       "  <tbody>\n",
       "    <tr>\n",
       "      <th>0</th>\n",
       "      <td>Super built-up  Area</td>\n",
       "      <td>19-Dec</td>\n",
       "      <td>Electronic City Phase II</td>\n",
       "      <td>2 BHK</td>\n",
       "      <td>Coomee</td>\n",
       "      <td>1056</td>\n",
       "      <td>2.0</td>\n",
       "      <td>1.0</td>\n",
       "      <td>39.07</td>\n",
       "    </tr>\n",
       "    <tr>\n",
       "      <th>1</th>\n",
       "      <td>Plot  Area</td>\n",
       "      <td>Ready To Move</td>\n",
       "      <td>Chikka Tirupathi</td>\n",
       "      <td>4 Bedroom</td>\n",
       "      <td>Theanmp</td>\n",
       "      <td>2600</td>\n",
       "      <td>5.0</td>\n",
       "      <td>3.0</td>\n",
       "      <td>120.00</td>\n",
       "    </tr>\n",
       "    <tr>\n",
       "      <th>2</th>\n",
       "      <td>Built-up  Area</td>\n",
       "      <td>Ready To Move</td>\n",
       "      <td>Uttarahalli</td>\n",
       "      <td>3 BHK</td>\n",
       "      <td>NaN</td>\n",
       "      <td>1440</td>\n",
       "      <td>2.0</td>\n",
       "      <td>3.0</td>\n",
       "      <td>62.00</td>\n",
       "    </tr>\n",
       "    <tr>\n",
       "      <th>3</th>\n",
       "      <td>Super built-up  Area</td>\n",
       "      <td>Ready To Move</td>\n",
       "      <td>Lingadheeranahalli</td>\n",
       "      <td>3 BHK</td>\n",
       "      <td>Soiewre</td>\n",
       "      <td>1521</td>\n",
       "      <td>3.0</td>\n",
       "      <td>1.0</td>\n",
       "      <td>95.00</td>\n",
       "    </tr>\n",
       "    <tr>\n",
       "      <th>4</th>\n",
       "      <td>Super built-up  Area</td>\n",
       "      <td>Ready To Move</td>\n",
       "      <td>Kothanur</td>\n",
       "      <td>2 BHK</td>\n",
       "      <td>NaN</td>\n",
       "      <td>1200</td>\n",
       "      <td>2.0</td>\n",
       "      <td>1.0</td>\n",
       "      <td>51.00</td>\n",
       "    </tr>\n",
       "  </tbody>\n",
       "</table>\n",
       "</div>"
      ],
      "text/plain": [
       "              area_type   availability                  location       size  \\\n",
       "0  Super built-up  Area         19-Dec  Electronic City Phase II      2 BHK   \n",
       "1            Plot  Area  Ready To Move          Chikka Tirupathi  4 Bedroom   \n",
       "2        Built-up  Area  Ready To Move               Uttarahalli      3 BHK   \n",
       "3  Super built-up  Area  Ready To Move        Lingadheeranahalli      3 BHK   \n",
       "4  Super built-up  Area  Ready To Move                  Kothanur      2 BHK   \n",
       "\n",
       "   society total_sqft  bath  balcony   price  \n",
       "0  Coomee        1056   2.0      1.0   39.07  \n",
       "1  Theanmp       2600   5.0      3.0  120.00  \n",
       "2      NaN       1440   2.0      3.0   62.00  \n",
       "3  Soiewre       1521   3.0      1.0   95.00  \n",
       "4      NaN       1200   2.0      1.0   51.00  "
      ]
     },
     "execution_count": 2,
     "metadata": {},
     "output_type": "execute_result"
    }
   ],
   "source": [
    "df1 = pd.read_csv('Bengaluru_House_Data.csv')\n",
    "df1.head()"
   ]
  },
  {
   "cell_type": "code",
   "execution_count": 3,
   "id": "82d19fdc",
   "metadata": {},
   "outputs": [
    {
     "data": {
      "text/plain": [
       "(13320, 9)"
      ]
     },
     "execution_count": 3,
     "metadata": {},
     "output_type": "execute_result"
    }
   ],
   "source": [
    "#examine the shape of the dataset \n",
    "df1.shape"
   ]
  },
  {
   "cell_type": "code",
   "execution_count": 4,
   "id": "4ae8b50a",
   "metadata": {},
   "outputs": [
    {
     "data": {
      "text/plain": [
       "area_type\n",
       "Built-up  Area          2418\n",
       "Carpet  Area              87\n",
       "Plot  Area              2025\n",
       "Super built-up  Area    8790\n",
       "Name: area_type, dtype: int64"
      ]
     },
     "execution_count": 4,
     "metadata": {},
     "output_type": "execute_result"
    }
   ],
   "source": [
    "#count the area type feature \n",
    "df1.groupby('area_type')['area_type'].agg('count')"
   ]
  },
  {
   "cell_type": "code",
   "execution_count": 5,
   "id": "7fc2718a",
   "metadata": {},
   "outputs": [
    {
     "data": {
      "application/vnd.microsoft.datawrangler.viewer.v0+json": {
       "columns": [
        {
         "name": "index",
         "rawType": "int64",
         "type": "integer"
        },
        {
         "name": "location",
         "rawType": "object",
         "type": "string"
        },
        {
         "name": "size",
         "rawType": "object",
         "type": "string"
        },
        {
         "name": "total_sqft",
         "rawType": "object",
         "type": "string"
        },
        {
         "name": "bath",
         "rawType": "float64",
         "type": "float"
        },
        {
         "name": "price",
         "rawType": "float64",
         "type": "float"
        }
       ],
       "conversionMethod": "pd.DataFrame",
       "ref": "6febfe5a-568e-46a1-a11f-f1dcb8555e4d",
       "rows": [
        [
         "0",
         "Electronic City Phase II",
         "2 BHK",
         "1056",
         "2.0",
         "39.07"
        ],
        [
         "1",
         "Chikka Tirupathi",
         "4 Bedroom",
         "2600",
         "5.0",
         "120.0"
        ],
        [
         "2",
         "Uttarahalli",
         "3 BHK",
         "1440",
         "2.0",
         "62.0"
        ],
        [
         "3",
         "Lingadheeranahalli",
         "3 BHK",
         "1521",
         "3.0",
         "95.0"
        ],
        [
         "4",
         "Kothanur",
         "2 BHK",
         "1200",
         "2.0",
         "51.0"
        ]
       ],
       "shape": {
        "columns": 5,
        "rows": 5
       }
      },
      "text/html": [
       "<div>\n",
       "<style scoped>\n",
       "    .dataframe tbody tr th:only-of-type {\n",
       "        vertical-align: middle;\n",
       "    }\n",
       "\n",
       "    .dataframe tbody tr th {\n",
       "        vertical-align: top;\n",
       "    }\n",
       "\n",
       "    .dataframe thead th {\n",
       "        text-align: right;\n",
       "    }\n",
       "</style>\n",
       "<table border=\"1\" class=\"dataframe\">\n",
       "  <thead>\n",
       "    <tr style=\"text-align: right;\">\n",
       "      <th></th>\n",
       "      <th>location</th>\n",
       "      <th>size</th>\n",
       "      <th>total_sqft</th>\n",
       "      <th>bath</th>\n",
       "      <th>price</th>\n",
       "    </tr>\n",
       "  </thead>\n",
       "  <tbody>\n",
       "    <tr>\n",
       "      <th>0</th>\n",
       "      <td>Electronic City Phase II</td>\n",
       "      <td>2 BHK</td>\n",
       "      <td>1056</td>\n",
       "      <td>2.0</td>\n",
       "      <td>39.07</td>\n",
       "    </tr>\n",
       "    <tr>\n",
       "      <th>1</th>\n",
       "      <td>Chikka Tirupathi</td>\n",
       "      <td>4 Bedroom</td>\n",
       "      <td>2600</td>\n",
       "      <td>5.0</td>\n",
       "      <td>120.00</td>\n",
       "    </tr>\n",
       "    <tr>\n",
       "      <th>2</th>\n",
       "      <td>Uttarahalli</td>\n",
       "      <td>3 BHK</td>\n",
       "      <td>1440</td>\n",
       "      <td>2.0</td>\n",
       "      <td>62.00</td>\n",
       "    </tr>\n",
       "    <tr>\n",
       "      <th>3</th>\n",
       "      <td>Lingadheeranahalli</td>\n",
       "      <td>3 BHK</td>\n",
       "      <td>1521</td>\n",
       "      <td>3.0</td>\n",
       "      <td>95.00</td>\n",
       "    </tr>\n",
       "    <tr>\n",
       "      <th>4</th>\n",
       "      <td>Kothanur</td>\n",
       "      <td>2 BHK</td>\n",
       "      <td>1200</td>\n",
       "      <td>2.0</td>\n",
       "      <td>51.00</td>\n",
       "    </tr>\n",
       "  </tbody>\n",
       "</table>\n",
       "</div>"
      ],
      "text/plain": [
       "                   location       size total_sqft  bath   price\n",
       "0  Electronic City Phase II      2 BHK       1056   2.0   39.07\n",
       "1          Chikka Tirupathi  4 Bedroom       2600   5.0  120.00\n",
       "2               Uttarahalli      3 BHK       1440   2.0   62.00\n",
       "3        Lingadheeranahalli      3 BHK       1521   3.0   95.00\n",
       "4                  Kothanur      2 BHK       1200   2.0   51.00"
      ]
     },
     "execution_count": 5,
     "metadata": {},
     "output_type": "execute_result"
    }
   ],
   "source": [
    "df2 = df1.drop(['area_type', 'society', 'balcony', 'availability'], axis='columns')\n",
    "df2.head()"
   ]
  },
  {
   "cell_type": "code",
   "execution_count": 6,
   "id": "6982d582",
   "metadata": {},
   "outputs": [
    {
     "data": {
      "text/plain": [
       "location       1\n",
       "size          16\n",
       "total_sqft     0\n",
       "bath          73\n",
       "price          0\n",
       "dtype: int64"
      ]
     },
     "execution_count": 6,
     "metadata": {},
     "output_type": "execute_result"
    }
   ],
   "source": [
    "#count the number of null rows \n",
    "df2.isnull().sum()"
   ]
  },
  {
   "cell_type": "code",
   "execution_count": 7,
   "id": "60753bc7",
   "metadata": {},
   "outputs": [
    {
     "data": {
      "text/plain": [
       "location      0\n",
       "size          0\n",
       "total_sqft    0\n",
       "bath          0\n",
       "price         0\n",
       "dtype: int64"
      ]
     },
     "execution_count": 7,
     "metadata": {},
     "output_type": "execute_result"
    }
   ],
   "source": [
    "df3 = df2.dropna()\n",
    "df3.isnull().sum()"
   ]
  },
  {
   "cell_type": "code",
   "execution_count": 8,
   "id": "53dbe252",
   "metadata": {},
   "outputs": [
    {
     "data": {
      "text/plain": [
       "(13246, 5)"
      ]
     },
     "execution_count": 8,
     "metadata": {},
     "output_type": "execute_result"
    }
   ],
   "source": [
    "df3.shape"
   ]
  },
  {
   "cell_type": "code",
   "execution_count": 9,
   "id": "9ee00c9f",
   "metadata": {},
   "outputs": [
    {
     "data": {
      "text/plain": [
       "array(['2 BHK', '4 Bedroom', '3 BHK', '4 BHK', '6 Bedroom', '3 Bedroom',\n",
       "       '1 BHK', '1 RK', '1 Bedroom', '8 Bedroom', '2 Bedroom',\n",
       "       '7 Bedroom', '5 BHK', '7 BHK', '6 BHK', '5 Bedroom', '11 BHK',\n",
       "       '9 BHK', '9 Bedroom', '27 BHK', '10 Bedroom', '11 Bedroom',\n",
       "       '10 BHK', '19 BHK', '16 BHK', '43 Bedroom', '14 BHK', '8 BHK',\n",
       "       '12 Bedroom', '13 BHK', '18 Bedroom'], dtype=object)"
      ]
     },
     "execution_count": 9,
     "metadata": {},
     "output_type": "execute_result"
    }
   ],
   "source": [
    "#check the unique values \n",
    "df3['size'].unique()"
   ]
  },
  {
   "cell_type": "code",
   "execution_count": 11,
   "id": "c3772975",
   "metadata": {},
   "outputs": [
    {
     "name": "stderr",
     "output_type": "stream",
     "text": [
      "C:\\Users\\Chris Victor\\AppData\\Local\\Temp\\ipykernel_22328\\701062130.py:2: SettingWithCopyWarning: \n",
      "A value is trying to be set on a copy of a slice from a DataFrame.\n",
      "Try using .loc[row_indexer,col_indexer] = value instead\n",
      "\n",
      "See the caveats in the documentation: https://pandas.pydata.org/pandas-docs/stable/user_guide/indexing.html#returning-a-view-versus-a-copy\n",
      "  df3['bhk'] = df3['size'].apply(lambda x: int(x.split(' ')[0]))\n"
     ]
    },
    {
     "data": {
      "application/vnd.microsoft.datawrangler.viewer.v0+json": {
       "columns": [
        {
         "name": "index",
         "rawType": "int64",
         "type": "integer"
        },
        {
         "name": "location",
         "rawType": "object",
         "type": "string"
        },
        {
         "name": "size",
         "rawType": "object",
         "type": "string"
        },
        {
         "name": "total_sqft",
         "rawType": "object",
         "type": "string"
        },
        {
         "name": "bath",
         "rawType": "float64",
         "type": "float"
        },
        {
         "name": "price",
         "rawType": "float64",
         "type": "float"
        },
        {
         "name": "bhk",
         "rawType": "int64",
         "type": "integer"
        }
       ],
       "conversionMethod": "pd.DataFrame",
       "ref": "23c0b811-2c3f-45e8-b547-db586a70fbf3",
       "rows": [
        [
         "0",
         "Electronic City Phase II",
         "2 BHK",
         "1056",
         "2.0",
         "39.07",
         "2"
        ],
        [
         "1",
         "Chikka Tirupathi",
         "4 Bedroom",
         "2600",
         "5.0",
         "120.0",
         "4"
        ],
        [
         "2",
         "Uttarahalli",
         "3 BHK",
         "1440",
         "2.0",
         "62.0",
         "3"
        ],
        [
         "3",
         "Lingadheeranahalli",
         "3 BHK",
         "1521",
         "3.0",
         "95.0",
         "3"
        ],
        [
         "4",
         "Kothanur",
         "2 BHK",
         "1200",
         "2.0",
         "51.0",
         "2"
        ]
       ],
       "shape": {
        "columns": 6,
        "rows": 5
       }
      },
      "text/html": [
       "<div>\n",
       "<style scoped>\n",
       "    .dataframe tbody tr th:only-of-type {\n",
       "        vertical-align: middle;\n",
       "    }\n",
       "\n",
       "    .dataframe tbody tr th {\n",
       "        vertical-align: top;\n",
       "    }\n",
       "\n",
       "    .dataframe thead th {\n",
       "        text-align: right;\n",
       "    }\n",
       "</style>\n",
       "<table border=\"1\" class=\"dataframe\">\n",
       "  <thead>\n",
       "    <tr style=\"text-align: right;\">\n",
       "      <th></th>\n",
       "      <th>location</th>\n",
       "      <th>size</th>\n",
       "      <th>total_sqft</th>\n",
       "      <th>bath</th>\n",
       "      <th>price</th>\n",
       "      <th>bhk</th>\n",
       "    </tr>\n",
       "  </thead>\n",
       "  <tbody>\n",
       "    <tr>\n",
       "      <th>0</th>\n",
       "      <td>Electronic City Phase II</td>\n",
       "      <td>2 BHK</td>\n",
       "      <td>1056</td>\n",
       "      <td>2.0</td>\n",
       "      <td>39.07</td>\n",
       "      <td>2</td>\n",
       "    </tr>\n",
       "    <tr>\n",
       "      <th>1</th>\n",
       "      <td>Chikka Tirupathi</td>\n",
       "      <td>4 Bedroom</td>\n",
       "      <td>2600</td>\n",
       "      <td>5.0</td>\n",
       "      <td>120.00</td>\n",
       "      <td>4</td>\n",
       "    </tr>\n",
       "    <tr>\n",
       "      <th>2</th>\n",
       "      <td>Uttarahalli</td>\n",
       "      <td>3 BHK</td>\n",
       "      <td>1440</td>\n",
       "      <td>2.0</td>\n",
       "      <td>62.00</td>\n",
       "      <td>3</td>\n",
       "    </tr>\n",
       "    <tr>\n",
       "      <th>3</th>\n",
       "      <td>Lingadheeranahalli</td>\n",
       "      <td>3 BHK</td>\n",
       "      <td>1521</td>\n",
       "      <td>3.0</td>\n",
       "      <td>95.00</td>\n",
       "      <td>3</td>\n",
       "    </tr>\n",
       "    <tr>\n",
       "      <th>4</th>\n",
       "      <td>Kothanur</td>\n",
       "      <td>2 BHK</td>\n",
       "      <td>1200</td>\n",
       "      <td>2.0</td>\n",
       "      <td>51.00</td>\n",
       "      <td>2</td>\n",
       "    </tr>\n",
       "  </tbody>\n",
       "</table>\n",
       "</div>"
      ],
      "text/plain": [
       "                   location       size total_sqft  bath   price  bhk\n",
       "0  Electronic City Phase II      2 BHK       1056   2.0   39.07    2\n",
       "1          Chikka Tirupathi  4 Bedroom       2600   5.0  120.00    4\n",
       "2               Uttarahalli      3 BHK       1440   2.0   62.00    3\n",
       "3        Lingadheeranahalli      3 BHK       1521   3.0   95.00    3\n",
       "4                  Kothanur      2 BHK       1200   2.0   51.00    2"
      ]
     },
     "execution_count": 11,
     "metadata": {},
     "output_type": "execute_result"
    }
   ],
   "source": [
    "#create the bhk that contains the number of bedrooms \n",
    "df3['bhk'] = df3['size'].apply(lambda x: int(x.split(' ')[0]))\n",
    "df3.head()"
   ]
  },
  {
   "cell_type": "code",
   "execution_count": 12,
   "id": "2da8a946",
   "metadata": {},
   "outputs": [
    {
     "data": {
      "text/plain": [
       "array([ 2,  4,  3,  6,  1,  8,  7,  5, 11,  9, 27, 10, 19, 16, 43, 14, 12,\n",
       "       13, 18])"
      ]
     },
     "execution_count": 12,
     "metadata": {},
     "output_type": "execute_result"
    }
   ],
   "source": [
    "df3['bhk'].unique()"
   ]
  },
  {
   "cell_type": "code",
   "execution_count": 14,
   "id": "bcfbae5d",
   "metadata": {},
   "outputs": [],
   "source": [
    "def is_float(x):\n",
    "    try:\n",
    "        float(x)\n",
    "    except:\n",
    "        return False\n",
    "    return True"
   ]
  },
  {
   "cell_type": "code",
   "execution_count": 16,
   "id": "975682fe",
   "metadata": {},
   "outputs": [
    {
     "data": {
      "application/vnd.microsoft.datawrangler.viewer.v0+json": {
       "columns": [
        {
         "name": "index",
         "rawType": "int64",
         "type": "integer"
        },
        {
         "name": "location",
         "rawType": "object",
         "type": "string"
        },
        {
         "name": "size",
         "rawType": "object",
         "type": "string"
        },
        {
         "name": "total_sqft",
         "rawType": "object",
         "type": "string"
        },
        {
         "name": "bath",
         "rawType": "float64",
         "type": "float"
        },
        {
         "name": "price",
         "rawType": "float64",
         "type": "float"
        },
        {
         "name": "bhk",
         "rawType": "int64",
         "type": "integer"
        }
       ],
       "conversionMethod": "pd.DataFrame",
       "ref": "4154db0a-740f-49c0-b8a7-4b8a7b1123e3",
       "rows": [
        [
         "30",
         "Yelahanka",
         "4 BHK",
         "2100 - 2850",
         "4.0",
         "186.0",
         "4"
        ],
        [
         "122",
         "Hebbal",
         "4 BHK",
         "3067 - 8156",
         "4.0",
         "477.0",
         "4"
        ],
        [
         "137",
         "8th Phase JP Nagar",
         "2 BHK",
         "1042 - 1105",
         "2.0",
         "54.005",
         "2"
        ],
        [
         "165",
         "Sarjapur",
         "2 BHK",
         "1145 - 1340",
         "2.0",
         "43.49",
         "2"
        ],
        [
         "188",
         "KR Puram",
         "2 BHK",
         "1015 - 1540",
         "2.0",
         "56.8",
         "2"
        ],
        [
         "410",
         "Kengeri",
         "1 BHK",
         "34.46Sq. Meter",
         "1.0",
         "18.5",
         "1"
        ],
        [
         "549",
         "Hennur Road",
         "2 BHK",
         "1195 - 1440",
         "2.0",
         "63.77",
         "2"
        ],
        [
         "648",
         "Arekere",
         "9 Bedroom",
         "4125Perch",
         "9.0",
         "265.0",
         "9"
        ],
        [
         "661",
         "Yelahanka",
         "2 BHK",
         "1120 - 1145",
         "2.0",
         "48.13",
         "2"
        ],
        [
         "672",
         "Bettahalsoor",
         "4 Bedroom",
         "3090 - 5002",
         "4.0",
         "445.0",
         "4"
        ],
        [
         "772",
         "Banashankari Stage VI",
         "2 BHK",
         "1160 - 1195",
         "2.0",
         "59.935",
         "2"
        ],
        [
         "775",
         "Basavanagara",
         "1 BHK",
         "1000Sq. Meter",
         "2.0",
         "93.0",
         "1"
        ],
        [
         "850",
         "Bannerghatta Road",
         "2 BHK",
         "1115 - 1130",
         "2.0",
         "58.935",
         "2"
        ],
        [
         "872",
         "Singapura Village",
         "2 BHK",
         "1100Sq. Yards",
         "2.0",
         "45.0",
         "2"
        ],
        [
         "886",
         "Chandapura",
         "1 BHK",
         "520 - 645",
         "1.0",
         "15.135",
         "1"
        ],
        [
         "927",
         "Thanisandra",
         "2 BHK",
         "1000 - 1285",
         "2.0",
         "43.415",
         "2"
        ],
        [
         "959",
         "Kammasandra",
         "1 BHK",
         "650 - 665",
         "1.0",
         "18.41",
         "1"
        ],
        [
         "990",
         "Sarjapur",
         "1 BHK",
         "633 - 666",
         "1.0",
         "17.535",
         "1"
        ],
        [
         "1019",
         "Marathi Layout",
         "1 Bedroom",
         "5.31Acres",
         "1.0",
         "110.0",
         "1"
        ],
        [
         "1086",
         "Narasapura",
         "2 Bedroom",
         "30Acres",
         "2.0",
         "29.5",
         "2"
        ],
        [
         "1178",
         "Yelahanka",
         "3 BHK",
         "1445 - 1455",
         "3.0",
         "65.255",
         "3"
        ],
        [
         "1183",
         "Magadi Road",
         "2 BHK",
         "884 - 1116",
         "2.0",
         "46.5",
         "2"
        ],
        [
         "1187",
         "Thanisandra",
         "2 BHK",
         "850 - 1093",
         "2.0",
         "36.435",
         "2"
        ],
        [
         "1400",
         "Chamrajpet",
         "9 BHK",
         "716Sq. Meter",
         "9.0",
         "296.0",
         "9"
        ],
        [
         "1484",
         "Hebbal",
         "2 BHK",
         "547.34 - 827.31",
         "2.0",
         "42.72",
         "2"
        ],
        [
         "1542",
         "Sarjapur  Road",
         "1 BHK",
         "580 - 650",
         "1.0",
         "17.835",
         "1"
        ],
        [
         "1614",
         "Sarjapur  Road",
         "4 BHK",
         "3425 - 3435",
         "6.0",
         "228.5",
         "4"
        ],
        [
         "1643",
         "Talaghattapura",
         "3 BHK",
         "1804 - 2273",
         "3.0",
         "120.0",
         "3"
        ],
        [
         "1683",
         "Old Madras Road",
         "4 BHK",
         "3630 - 3800",
         "6.0",
         "224.5",
         "4"
        ],
        [
         "1694",
         "JP Nagar",
         "4 BHK",
         "4000 - 5249",
         "4.0",
         "314.5",
         "4"
        ],
        [
         "1712",
         "Singena Agrahara",
         "3 Bedroom",
         "1500Sq. Meter",
         "3.0",
         "95.0",
         "3"
        ],
        [
         "1743",
         "Hosa Road",
         "3 BHK",
         "142.61Sq. Meter",
         "3.0",
         "115.0",
         "3"
        ],
        [
         "1821",
         "Sarjapur",
         "3 Bedroom",
         "1574Sq. Yards",
         "3.0",
         "76.0",
         "3"
        ],
        [
         "2088",
         "Yeshwanthpur",
         "2 BHK",
         "1250 - 1305",
         "2.0",
         "95.815",
         "2"
        ],
        [
         "2128",
         "Kanakpura Road",
         "1 BHK",
         "670 - 980",
         "1.0",
         "36.29",
         "1"
        ],
        [
         "2228",
         "KR Puram",
         "3 BHK",
         "1005.03 - 1252.49",
         "3.0",
         "47.405",
         "3"
        ],
        [
         "2265",
         "Old Madras Road",
         "4 BHK",
         "3630 - 3800",
         "6.0",
         "200.5",
         "4"
        ],
        [
         "2301",
         "Hosa Road",
         "2 BHK",
         "1004 - 1204",
         "2.0",
         "36.43",
         "2"
        ],
        [
         "2310",
         "Whitefield",
         "4 BHK",
         "361.33Sq. Yards",
         "4.0",
         "270.0",
         "4"
        ],
        [
         "2396",
         "Balagere",
         "1 BHK",
         "645 - 936",
         "1.0",
         "41.9",
         "1"
        ],
        [
         "2431",
         "EPIP Zone",
         "4 BHK",
         "2710 - 3360",
         "5.0",
         "200.0",
         "4"
        ],
        [
         "2575",
         "Whitefield",
         "4 BHK",
         "2830 - 2882",
         "5.0",
         "145.5",
         "4"
        ],
        [
         "2587",
         "Tumkur Road",
         "1 BHK",
         "596 - 804",
         "1.0",
         "30.09",
         "1"
        ],
        [
         "2713",
         "KR Puram",
         "3 BHK",
         "1255 - 1863",
         "3.0",
         "69.315",
         "3"
        ],
        [
         "2716",
         "JP Nagar",
         "2 BHK",
         "1300 - 1405",
         "2.0",
         "93.865",
         "2"
        ],
        [
         "2881",
         "Volagerekallahalli",
         "2 BHK",
         "117Sq. Yards",
         "2.0",
         "38.0",
         "2"
        ],
        [
         "2916",
         "Thanisandra",
         "2 BHK",
         "934 - 1437",
         "2.0",
         "58.68",
         "2"
        ],
        [
         "2920",
         "Mysore Road",
         "2 BHK",
         "980 - 1030",
         "2.0",
         "35.175",
         "2"
        ],
        [
         "3174",
         "Jakkur",
         "4 BHK",
         "2249.81 - 4112.19",
         "4.0",
         "260.5",
         "4"
        ],
        [
         "3215",
         "KR Puram",
         "2 BHK",
         "1070 - 1315",
         "2.0",
         "51.22",
         "2"
        ]
       ],
       "shape": {
        "columns": 6,
        "rows": 100
       }
      },
      "text/html": [
       "<div>\n",
       "<style scoped>\n",
       "    .dataframe tbody tr th:only-of-type {\n",
       "        vertical-align: middle;\n",
       "    }\n",
       "\n",
       "    .dataframe tbody tr th {\n",
       "        vertical-align: top;\n",
       "    }\n",
       "\n",
       "    .dataframe thead th {\n",
       "        text-align: right;\n",
       "    }\n",
       "</style>\n",
       "<table border=\"1\" class=\"dataframe\">\n",
       "  <thead>\n",
       "    <tr style=\"text-align: right;\">\n",
       "      <th></th>\n",
       "      <th>location</th>\n",
       "      <th>size</th>\n",
       "      <th>total_sqft</th>\n",
       "      <th>bath</th>\n",
       "      <th>price</th>\n",
       "      <th>bhk</th>\n",
       "    </tr>\n",
       "  </thead>\n",
       "  <tbody>\n",
       "    <tr>\n",
       "      <th>30</th>\n",
       "      <td>Yelahanka</td>\n",
       "      <td>4 BHK</td>\n",
       "      <td>2100 - 2850</td>\n",
       "      <td>4.0</td>\n",
       "      <td>186.000</td>\n",
       "      <td>4</td>\n",
       "    </tr>\n",
       "    <tr>\n",
       "      <th>122</th>\n",
       "      <td>Hebbal</td>\n",
       "      <td>4 BHK</td>\n",
       "      <td>3067 - 8156</td>\n",
       "      <td>4.0</td>\n",
       "      <td>477.000</td>\n",
       "      <td>4</td>\n",
       "    </tr>\n",
       "    <tr>\n",
       "      <th>137</th>\n",
       "      <td>8th Phase JP Nagar</td>\n",
       "      <td>2 BHK</td>\n",
       "      <td>1042 - 1105</td>\n",
       "      <td>2.0</td>\n",
       "      <td>54.005</td>\n",
       "      <td>2</td>\n",
       "    </tr>\n",
       "    <tr>\n",
       "      <th>165</th>\n",
       "      <td>Sarjapur</td>\n",
       "      <td>2 BHK</td>\n",
       "      <td>1145 - 1340</td>\n",
       "      <td>2.0</td>\n",
       "      <td>43.490</td>\n",
       "      <td>2</td>\n",
       "    </tr>\n",
       "    <tr>\n",
       "      <th>188</th>\n",
       "      <td>KR Puram</td>\n",
       "      <td>2 BHK</td>\n",
       "      <td>1015 - 1540</td>\n",
       "      <td>2.0</td>\n",
       "      <td>56.800</td>\n",
       "      <td>2</td>\n",
       "    </tr>\n",
       "    <tr>\n",
       "      <th>...</th>\n",
       "      <td>...</td>\n",
       "      <td>...</td>\n",
       "      <td>...</td>\n",
       "      <td>...</td>\n",
       "      <td>...</td>\n",
       "      <td>...</td>\n",
       "    </tr>\n",
       "    <tr>\n",
       "      <th>6552</th>\n",
       "      <td>5 Bedroom Farm House in Lakshmipura</td>\n",
       "      <td>5 Bedroom</td>\n",
       "      <td>24Guntha</td>\n",
       "      <td>6.0</td>\n",
       "      <td>550.000</td>\n",
       "      <td>5</td>\n",
       "    </tr>\n",
       "    <tr>\n",
       "      <th>6581</th>\n",
       "      <td>Sarjapur  Road</td>\n",
       "      <td>3 BHK</td>\n",
       "      <td>1270 - 1275</td>\n",
       "      <td>2.0</td>\n",
       "      <td>40.720</td>\n",
       "      <td>3</td>\n",
       "    </tr>\n",
       "    <tr>\n",
       "      <th>6587</th>\n",
       "      <td>Kadugodi</td>\n",
       "      <td>1 BHK</td>\n",
       "      <td>840 - 1010</td>\n",
       "      <td>1.0</td>\n",
       "      <td>40.700</td>\n",
       "      <td>1</td>\n",
       "    </tr>\n",
       "    <tr>\n",
       "      <th>6592</th>\n",
       "      <td>Langford Town</td>\n",
       "      <td>4 BHK</td>\n",
       "      <td>697Sq. Meter</td>\n",
       "      <td>4.0</td>\n",
       "      <td>211.000</td>\n",
       "      <td>4</td>\n",
       "    </tr>\n",
       "    <tr>\n",
       "      <th>6643</th>\n",
       "      <td>Whitefield</td>\n",
       "      <td>4 BHK</td>\n",
       "      <td>2830 - 2882</td>\n",
       "      <td>5.0</td>\n",
       "      <td>157.500</td>\n",
       "      <td>4</td>\n",
       "    </tr>\n",
       "  </tbody>\n",
       "</table>\n",
       "<p>100 rows × 6 columns</p>\n",
       "</div>"
      ],
      "text/plain": [
       "                                 location       size    total_sqft  bath  \\\n",
       "30                              Yelahanka      4 BHK   2100 - 2850   4.0   \n",
       "122                                Hebbal      4 BHK   3067 - 8156   4.0   \n",
       "137                    8th Phase JP Nagar      2 BHK   1042 - 1105   2.0   \n",
       "165                              Sarjapur      2 BHK   1145 - 1340   2.0   \n",
       "188                              KR Puram      2 BHK   1015 - 1540   2.0   \n",
       "...                                   ...        ...           ...   ...   \n",
       "6552  5 Bedroom Farm House in Lakshmipura  5 Bedroom      24Guntha   6.0   \n",
       "6581                       Sarjapur  Road      3 BHK   1270 - 1275   2.0   \n",
       "6587                             Kadugodi      1 BHK    840 - 1010   1.0   \n",
       "6592                        Langford Town      4 BHK  697Sq. Meter   4.0   \n",
       "6643                           Whitefield      4 BHK   2830 - 2882   5.0   \n",
       "\n",
       "        price  bhk  \n",
       "30    186.000    4  \n",
       "122   477.000    4  \n",
       "137    54.005    2  \n",
       "165    43.490    2  \n",
       "188    56.800    2  \n",
       "...       ...  ...  \n",
       "6552  550.000    5  \n",
       "6581   40.720    3  \n",
       "6587   40.700    1  \n",
       "6592  211.000    4  \n",
       "6643  157.500    4  \n",
       "\n",
       "[100 rows x 6 columns]"
      ]
     },
     "execution_count": 16,
     "metadata": {},
     "output_type": "execute_result"
    }
   ],
   "source": [
    "df3[~df3['total_sqft'].apply(is_float)].head(100)"
   ]
  },
  {
   "cell_type": "code",
   "execution_count": 17,
   "id": "d1373d5f",
   "metadata": {},
   "outputs": [],
   "source": [
    "def convert_sqft_to_num(x):\n",
    "    tokens = x.split('-')\n",
    "    if len(tokens) == 2:\n",
    "        return (float(tokens[0]) + float(tokens[1])) /2 \n",
    "    try:\n",
    "        return float(x)\n",
    "    except:\n",
    "        return None\n",
    "    \n"
   ]
  },
  {
   "cell_type": "code",
   "execution_count": 18,
   "id": "c85c37b0",
   "metadata": {},
   "outputs": [
    {
     "data": {
      "text/plain": [
       "2166.0"
      ]
     },
     "execution_count": 18,
     "metadata": {},
     "output_type": "execute_result"
    }
   ],
   "source": [
    "convert_sqft_to_num('2166')"
   ]
  },
  {
   "cell_type": "code",
   "execution_count": 20,
   "id": "9cd6277c",
   "metadata": {},
   "outputs": [],
   "source": [
    "convert_sqft_to_num('2100sqmeter')"
   ]
  },
  {
   "cell_type": "code",
   "execution_count": 21,
   "id": "94fa1ef5",
   "metadata": {},
   "outputs": [],
   "source": [
    "#apply the function on sqfoot function \n",
    "df4 = df3.copy()\n",
    "df4['total_sqft'] = df4['total_sqft'].apply(convert_sqft_to_num)"
   ]
  },
  {
   "cell_type": "code",
   "execution_count": 23,
   "id": "3eb33a79",
   "metadata": {},
   "outputs": [
    {
     "data": {
      "application/vnd.microsoft.datawrangler.viewer.v0+json": {
       "columns": [
        {
         "name": "index",
         "rawType": "int64",
         "type": "integer"
        },
        {
         "name": "location",
         "rawType": "object",
         "type": "string"
        },
        {
         "name": "size",
         "rawType": "object",
         "type": "string"
        },
        {
         "name": "total_sqft",
         "rawType": "float64",
         "type": "float"
        },
        {
         "name": "bath",
         "rawType": "float64",
         "type": "float"
        },
        {
         "name": "price",
         "rawType": "float64",
         "type": "float"
        },
        {
         "name": "bhk",
         "rawType": "int64",
         "type": "integer"
        }
       ],
       "conversionMethod": "pd.DataFrame",
       "ref": "7b11120a-f512-41b7-81ec-90c182f87535",
       "rows": [
        [
         "0",
         "Electronic City Phase II",
         "2 BHK",
         "1056.0",
         "2.0",
         "39.07",
         "2"
        ],
        [
         "1",
         "Chikka Tirupathi",
         "4 Bedroom",
         "2600.0",
         "5.0",
         "120.0",
         "4"
        ],
        [
         "2",
         "Uttarahalli",
         "3 BHK",
         "1440.0",
         "2.0",
         "62.0",
         "3"
        ],
        [
         "3",
         "Lingadheeranahalli",
         "3 BHK",
         "1521.0",
         "3.0",
         "95.0",
         "3"
        ],
        [
         "4",
         "Kothanur",
         "2 BHK",
         "1200.0",
         "2.0",
         "51.0",
         "2"
        ],
        [
         "5",
         "Whitefield",
         "2 BHK",
         "1170.0",
         "2.0",
         "38.0",
         "2"
        ],
        [
         "6",
         "Old Airport Road",
         "4 BHK",
         "2732.0",
         "4.0",
         "204.0",
         "4"
        ],
        [
         "7",
         "Rajaji Nagar",
         "4 BHK",
         "3300.0",
         "4.0",
         "600.0",
         "4"
        ],
        [
         "8",
         "Marathahalli",
         "3 BHK",
         "1310.0",
         "3.0",
         "63.25",
         "3"
        ],
        [
         "9",
         "Gandhi Bazar",
         "6 Bedroom",
         "1020.0",
         "6.0",
         "370.0",
         "6"
        ],
        [
         "10",
         "Whitefield",
         "3 BHK",
         "1800.0",
         "2.0",
         "70.0",
         "3"
        ],
        [
         "11",
         "Whitefield",
         "4 Bedroom",
         "2785.0",
         "5.0",
         "295.0",
         "4"
        ],
        [
         "12",
         "7th Phase JP Nagar",
         "2 BHK",
         "1000.0",
         "2.0",
         "38.0",
         "2"
        ],
        [
         "13",
         "Gottigere",
         "2 BHK",
         "1100.0",
         "2.0",
         "40.0",
         "2"
        ],
        [
         "14",
         "Sarjapur",
         "3 Bedroom",
         "2250.0",
         "3.0",
         "148.0",
         "3"
        ],
        [
         "15",
         "Mysore Road",
         "2 BHK",
         "1175.0",
         "2.0",
         "73.5",
         "2"
        ],
        [
         "16",
         "Bisuvanahalli",
         "3 BHK",
         "1180.0",
         "3.0",
         "48.0",
         "3"
        ],
        [
         "17",
         "Raja Rajeshwari Nagar",
         "3 BHK",
         "1540.0",
         "3.0",
         "60.0",
         "3"
        ],
        [
         "18",
         "Ramakrishnappa Layout",
         "3 BHK",
         "2770.0",
         "4.0",
         "290.0",
         "3"
        ],
        [
         "19",
         "Manayata Tech Park",
         "2 BHK",
         "1100.0",
         "2.0",
         "48.0",
         "2"
        ],
        [
         "20",
         "Kengeri",
         "1 BHK",
         "600.0",
         "1.0",
         "15.0",
         "1"
        ],
        [
         "21",
         "Binny Pete",
         "3 BHK",
         "1755.0",
         "3.0",
         "122.0",
         "3"
        ],
        [
         "22",
         "Thanisandra",
         "4 Bedroom",
         "2800.0",
         "5.0",
         "380.0",
         "4"
        ],
        [
         "23",
         "Bellandur",
         "3 BHK",
         "1767.0",
         "3.0",
         "103.0",
         "3"
        ],
        [
         "24",
         " Thanisandra",
         "1 RK",
         "510.0",
         "1.0",
         "25.25",
         "1"
        ],
        [
         "25",
         "Mangammanapalya",
         "3 BHK",
         "1250.0",
         "3.0",
         "56.0",
         "3"
        ],
        [
         "26",
         "Electronic City",
         "2 BHK",
         "660.0",
         "1.0",
         "23.1",
         "2"
        ],
        [
         "27",
         "Whitefield",
         "3 BHK",
         "1610.0",
         "3.0",
         "81.0",
         "3"
        ],
        [
         "28",
         "Ramagondanahalli",
         "2 BHK",
         "1151.0",
         "2.0",
         "48.77",
         "2"
        ],
        [
         "29",
         "Electronic City",
         "3 BHK",
         "1025.0",
         "2.0",
         "47.0",
         "3"
        ],
        [
         "30",
         "Yelahanka",
         "4 BHK",
         "2475.0",
         "4.0",
         "186.0",
         "4"
        ],
        [
         "31",
         "Bisuvanahalli",
         "3 BHK",
         "1075.0",
         "2.0",
         "35.0",
         "3"
        ],
        [
         "32",
         "Hebbal",
         "3 BHK",
         "1760.0",
         "2.0",
         "123.0",
         "3"
        ],
        [
         "33",
         "Raja Rajeshwari Nagar",
         "3 BHK",
         "1693.0",
         "3.0",
         "57.39",
         "3"
        ],
        [
         "34",
         "Kasturi Nagar",
         "3 BHK",
         "1925.0",
         "3.0",
         "125.0",
         "3"
        ],
        [
         "35",
         "Kanakpura Road",
         "2 BHK",
         "700.0",
         "2.0",
         "36.0",
         "2"
        ],
        [
         "36",
         "Electronics City Phase 1",
         "2 BHK",
         "1070.0",
         "2.0",
         "45.5",
         "2"
        ],
        [
         "37",
         "Kundalahalli",
         "3 BHK",
         "1724.0",
         "3.0",
         "125.0",
         "3"
        ],
        [
         "38",
         "Chikkalasandra",
         "3 BHK",
         "1290.0",
         "2.0",
         "56.12",
         "3"
        ],
        [
         "39",
         "Uttarahalli",
         "2 BHK",
         "1143.0",
         "2.0",
         "45.0",
         "2"
        ],
        [
         "40",
         "Murugeshpalya",
         "2 BHK",
         "1296.0",
         "2.0",
         "81.0",
         "2"
        ],
        [
         "41",
         "Sarjapur  Road",
         "3 BHK",
         "1254.0",
         "3.0",
         "38.0",
         "3"
        ],
        [
         "42",
         "Ganga Nagar",
         "1 BHK",
         "600.0",
         "1.0",
         "38.0",
         "1"
        ],
        [
         "43",
         "Yelahanka",
         "1 Bedroom",
         "660.0",
         "1.0",
         "48.0",
         "1"
        ],
        [
         "44",
         "Kanakpura Road",
         "2 BHK",
         "1330.74",
         "2.0",
         "91.79",
         "2"
        ],
        [
         "45",
         "HSR Layout",
         "8 Bedroom",
         "600.0",
         "9.0",
         "200.0",
         "8"
        ],
        [
         "46",
         "Doddathoguru",
         "2 BHK",
         "970.0",
         "2.0",
         "33.0",
         "2"
        ],
        [
         "47",
         "Whitefield",
         "2 BHK",
         "1459.0",
         "2.0",
         "94.82",
         "2"
        ],
        [
         "48",
         "KR Puram",
         "2 Bedroom",
         "800.0",
         "1.0",
         "130.0",
         "2"
        ],
        [
         "49",
         "Himagiri Meadows",
         "2 BHK",
         "869.0",
         "2.0",
         "36.0",
         "2"
        ]
       ],
       "shape": {
        "columns": 6,
        "rows": 100
       }
      },
      "text/html": [
       "<div>\n",
       "<style scoped>\n",
       "    .dataframe tbody tr th:only-of-type {\n",
       "        vertical-align: middle;\n",
       "    }\n",
       "\n",
       "    .dataframe tbody tr th {\n",
       "        vertical-align: top;\n",
       "    }\n",
       "\n",
       "    .dataframe thead th {\n",
       "        text-align: right;\n",
       "    }\n",
       "</style>\n",
       "<table border=\"1\" class=\"dataframe\">\n",
       "  <thead>\n",
       "    <tr style=\"text-align: right;\">\n",
       "      <th></th>\n",
       "      <th>location</th>\n",
       "      <th>size</th>\n",
       "      <th>total_sqft</th>\n",
       "      <th>bath</th>\n",
       "      <th>price</th>\n",
       "      <th>bhk</th>\n",
       "    </tr>\n",
       "  </thead>\n",
       "  <tbody>\n",
       "    <tr>\n",
       "      <th>0</th>\n",
       "      <td>Electronic City Phase II</td>\n",
       "      <td>2 BHK</td>\n",
       "      <td>1056.0</td>\n",
       "      <td>2.0</td>\n",
       "      <td>39.07</td>\n",
       "      <td>2</td>\n",
       "    </tr>\n",
       "    <tr>\n",
       "      <th>1</th>\n",
       "      <td>Chikka Tirupathi</td>\n",
       "      <td>4 Bedroom</td>\n",
       "      <td>2600.0</td>\n",
       "      <td>5.0</td>\n",
       "      <td>120.00</td>\n",
       "      <td>4</td>\n",
       "    </tr>\n",
       "    <tr>\n",
       "      <th>2</th>\n",
       "      <td>Uttarahalli</td>\n",
       "      <td>3 BHK</td>\n",
       "      <td>1440.0</td>\n",
       "      <td>2.0</td>\n",
       "      <td>62.00</td>\n",
       "      <td>3</td>\n",
       "    </tr>\n",
       "    <tr>\n",
       "      <th>3</th>\n",
       "      <td>Lingadheeranahalli</td>\n",
       "      <td>3 BHK</td>\n",
       "      <td>1521.0</td>\n",
       "      <td>3.0</td>\n",
       "      <td>95.00</td>\n",
       "      <td>3</td>\n",
       "    </tr>\n",
       "    <tr>\n",
       "      <th>4</th>\n",
       "      <td>Kothanur</td>\n",
       "      <td>2 BHK</td>\n",
       "      <td>1200.0</td>\n",
       "      <td>2.0</td>\n",
       "      <td>51.00</td>\n",
       "      <td>2</td>\n",
       "    </tr>\n",
       "    <tr>\n",
       "      <th>...</th>\n",
       "      <td>...</td>\n",
       "      <td>...</td>\n",
       "      <td>...</td>\n",
       "      <td>...</td>\n",
       "      <td>...</td>\n",
       "      <td>...</td>\n",
       "    </tr>\n",
       "    <tr>\n",
       "      <th>97</th>\n",
       "      <td>Sarjapura - Attibele Road</td>\n",
       "      <td>3 BHK</td>\n",
       "      <td>1330.0</td>\n",
       "      <td>2.0</td>\n",
       "      <td>48.00</td>\n",
       "      <td>3</td>\n",
       "    </tr>\n",
       "    <tr>\n",
       "      <th>98</th>\n",
       "      <td>Devasthanagalu</td>\n",
       "      <td>2 BHK</td>\n",
       "      <td>1200.0</td>\n",
       "      <td>2.0</td>\n",
       "      <td>65.00</td>\n",
       "      <td>2</td>\n",
       "    </tr>\n",
       "    <tr>\n",
       "      <th>99</th>\n",
       "      <td>T Dasarahalli</td>\n",
       "      <td>3 Bedroom</td>\n",
       "      <td>1200.0</td>\n",
       "      <td>3.0</td>\n",
       "      <td>90.00</td>\n",
       "      <td>3</td>\n",
       "    </tr>\n",
       "    <tr>\n",
       "      <th>100</th>\n",
       "      <td>Yeshwanthpur</td>\n",
       "      <td>3 BHK</td>\n",
       "      <td>2502.0</td>\n",
       "      <td>3.0</td>\n",
       "      <td>138.00</td>\n",
       "      <td>3</td>\n",
       "    </tr>\n",
       "    <tr>\n",
       "      <th>101</th>\n",
       "      <td>Chandapura</td>\n",
       "      <td>2 BHK</td>\n",
       "      <td>650.0</td>\n",
       "      <td>1.0</td>\n",
       "      <td>17.00</td>\n",
       "      <td>2</td>\n",
       "    </tr>\n",
       "  </tbody>\n",
       "</table>\n",
       "<p>100 rows × 6 columns</p>\n",
       "</div>"
      ],
      "text/plain": [
       "                      location       size  total_sqft  bath   price  bhk\n",
       "0     Electronic City Phase II      2 BHK      1056.0   2.0   39.07    2\n",
       "1             Chikka Tirupathi  4 Bedroom      2600.0   5.0  120.00    4\n",
       "2                  Uttarahalli      3 BHK      1440.0   2.0   62.00    3\n",
       "3           Lingadheeranahalli      3 BHK      1521.0   3.0   95.00    3\n",
       "4                     Kothanur      2 BHK      1200.0   2.0   51.00    2\n",
       "..                         ...        ...         ...   ...     ...  ...\n",
       "97   Sarjapura - Attibele Road      3 BHK      1330.0   2.0   48.00    3\n",
       "98              Devasthanagalu      2 BHK      1200.0   2.0   65.00    2\n",
       "99               T Dasarahalli  3 Bedroom      1200.0   3.0   90.00    3\n",
       "100               Yeshwanthpur      3 BHK      2502.0   3.0  138.00    3\n",
       "101                 Chandapura      2 BHK       650.0   1.0   17.00    2\n",
       "\n",
       "[100 rows x 6 columns]"
      ]
     },
     "execution_count": 23,
     "metadata": {},
     "output_type": "execute_result"
    }
   ],
   "source": [
    "df4.head(100)"
   ]
  },
  {
   "cell_type": "code",
   "execution_count": 24,
   "id": "7e0cdc31",
   "metadata": {},
   "outputs": [],
   "source": [
    "df5 = df4.copy()"
   ]
  },
  {
   "cell_type": "code",
   "execution_count": 25,
   "id": "ee59e72b",
   "metadata": {},
   "outputs": [
    {
     "data": {
      "application/vnd.microsoft.datawrangler.viewer.v0+json": {
       "columns": [
        {
         "name": "index",
         "rawType": "int64",
         "type": "integer"
        },
        {
         "name": "location",
         "rawType": "object",
         "type": "string"
        },
        {
         "name": "size",
         "rawType": "object",
         "type": "string"
        },
        {
         "name": "total_sqft",
         "rawType": "float64",
         "type": "float"
        },
        {
         "name": "bath",
         "rawType": "float64",
         "type": "float"
        },
        {
         "name": "price",
         "rawType": "float64",
         "type": "float"
        },
        {
         "name": "bhk",
         "rawType": "int64",
         "type": "integer"
        },
        {
         "name": "price_per_sqft",
         "rawType": "float64",
         "type": "float"
        }
       ],
       "conversionMethod": "pd.DataFrame",
       "ref": "3ee192d3-fffe-43b8-8a7d-2abd02ea0070",
       "rows": [
        [
         "0",
         "Electronic City Phase II",
         "2 BHK",
         "1056.0",
         "2.0",
         "39.07",
         "2",
         "3699.810606060606"
        ],
        [
         "1",
         "Chikka Tirupathi",
         "4 Bedroom",
         "2600.0",
         "5.0",
         "120.0",
         "4",
         "4615.384615384615"
        ],
        [
         "2",
         "Uttarahalli",
         "3 BHK",
         "1440.0",
         "2.0",
         "62.0",
         "3",
         "4305.555555555556"
        ],
        [
         "3",
         "Lingadheeranahalli",
         "3 BHK",
         "1521.0",
         "3.0",
         "95.0",
         "3",
         "6245.890861275477"
        ],
        [
         "4",
         "Kothanur",
         "2 BHK",
         "1200.0",
         "2.0",
         "51.0",
         "2",
         "4250.0"
        ]
       ],
       "shape": {
        "columns": 7,
        "rows": 5
       }
      },
      "text/html": [
       "<div>\n",
       "<style scoped>\n",
       "    .dataframe tbody tr th:only-of-type {\n",
       "        vertical-align: middle;\n",
       "    }\n",
       "\n",
       "    .dataframe tbody tr th {\n",
       "        vertical-align: top;\n",
       "    }\n",
       "\n",
       "    .dataframe thead th {\n",
       "        text-align: right;\n",
       "    }\n",
       "</style>\n",
       "<table border=\"1\" class=\"dataframe\">\n",
       "  <thead>\n",
       "    <tr style=\"text-align: right;\">\n",
       "      <th></th>\n",
       "      <th>location</th>\n",
       "      <th>size</th>\n",
       "      <th>total_sqft</th>\n",
       "      <th>bath</th>\n",
       "      <th>price</th>\n",
       "      <th>bhk</th>\n",
       "      <th>price_per_sqft</th>\n",
       "    </tr>\n",
       "  </thead>\n",
       "  <tbody>\n",
       "    <tr>\n",
       "      <th>0</th>\n",
       "      <td>Electronic City Phase II</td>\n",
       "      <td>2 BHK</td>\n",
       "      <td>1056.0</td>\n",
       "      <td>2.0</td>\n",
       "      <td>39.07</td>\n",
       "      <td>2</td>\n",
       "      <td>3699.810606</td>\n",
       "    </tr>\n",
       "    <tr>\n",
       "      <th>1</th>\n",
       "      <td>Chikka Tirupathi</td>\n",
       "      <td>4 Bedroom</td>\n",
       "      <td>2600.0</td>\n",
       "      <td>5.0</td>\n",
       "      <td>120.00</td>\n",
       "      <td>4</td>\n",
       "      <td>4615.384615</td>\n",
       "    </tr>\n",
       "    <tr>\n",
       "      <th>2</th>\n",
       "      <td>Uttarahalli</td>\n",
       "      <td>3 BHK</td>\n",
       "      <td>1440.0</td>\n",
       "      <td>2.0</td>\n",
       "      <td>62.00</td>\n",
       "      <td>3</td>\n",
       "      <td>4305.555556</td>\n",
       "    </tr>\n",
       "    <tr>\n",
       "      <th>3</th>\n",
       "      <td>Lingadheeranahalli</td>\n",
       "      <td>3 BHK</td>\n",
       "      <td>1521.0</td>\n",
       "      <td>3.0</td>\n",
       "      <td>95.00</td>\n",
       "      <td>3</td>\n",
       "      <td>6245.890861</td>\n",
       "    </tr>\n",
       "    <tr>\n",
       "      <th>4</th>\n",
       "      <td>Kothanur</td>\n",
       "      <td>2 BHK</td>\n",
       "      <td>1200.0</td>\n",
       "      <td>2.0</td>\n",
       "      <td>51.00</td>\n",
       "      <td>2</td>\n",
       "      <td>4250.000000</td>\n",
       "    </tr>\n",
       "  </tbody>\n",
       "</table>\n",
       "</div>"
      ],
      "text/plain": [
       "                   location       size  total_sqft  bath   price  bhk  \\\n",
       "0  Electronic City Phase II      2 BHK      1056.0   2.0   39.07    2   \n",
       "1          Chikka Tirupathi  4 Bedroom      2600.0   5.0  120.00    4   \n",
       "2               Uttarahalli      3 BHK      1440.0   2.0   62.00    3   \n",
       "3        Lingadheeranahalli      3 BHK      1521.0   3.0   95.00    3   \n",
       "4                  Kothanur      2 BHK      1200.0   2.0   51.00    2   \n",
       "\n",
       "   price_per_sqft  \n",
       "0     3699.810606  \n",
       "1     4615.384615  \n",
       "2     4305.555556  \n",
       "3     6245.890861  \n",
       "4     4250.000000  "
      ]
     },
     "execution_count": 25,
     "metadata": {},
     "output_type": "execute_result"
    }
   ],
   "source": [
    "#create a new feature price per sqft \n",
    "\n",
    "df5['price_per_sqft'] = df5['price'] *100000 / df5['total_sqft']\n",
    "df5.head()"
   ]
  },
  {
   "cell_type": "code",
   "execution_count": 27,
   "id": "2587222d",
   "metadata": {},
   "outputs": [
    {
     "data": {
      "text/plain": [
       "1304"
      ]
     },
     "execution_count": 27,
     "metadata": {},
     "output_type": "execute_result"
    }
   ],
   "source": [
    "len(df5.location.unique())"
   ]
  },
  {
   "cell_type": "code",
   "execution_count": 30,
   "id": "3eae3343",
   "metadata": {},
   "outputs": [
    {
     "data": {
      "text/plain": [
       "location\n",
       "Whitefield                            535\n",
       "Sarjapur  Road                        392\n",
       "Electronic City                       304\n",
       "Kanakpura Road                        266\n",
       "Thanisandra                           236\n",
       "                                     ... \n",
       "poornaprajna layout                     1\n",
       "pavitra paradise                        1\n",
       "near Ramanashree California resort      1\n",
       "mvj engineering college                 1\n",
       "1Kasavanhalli                           1\n",
       "Name: location, Length: 1293, dtype: int64"
      ]
     },
     "execution_count": 30,
     "metadata": {},
     "output_type": "execute_result"
    }
   ],
   "source": [
    "df5.location = df5.location.apply(lambda x: x.strip())\n",
    "location_stats = df5.groupby('location')['location'].agg('count').sort_values(ascending=False)\n",
    "location_stats"
   ]
  },
  {
   "cell_type": "code",
   "execution_count": 32,
   "id": "dc396fa3",
   "metadata": {},
   "outputs": [
    {
     "data": {
      "text/plain": [
       "1052"
      ]
     },
     "execution_count": 32,
     "metadata": {},
     "output_type": "execute_result"
    }
   ],
   "source": [
    "len(location_stats[location_stats <= 10])"
   ]
  },
  {
   "cell_type": "code",
   "execution_count": 33,
   "id": "3f0f730a",
   "metadata": {},
   "outputs": [
    {
     "data": {
      "text/plain": [
       "location\n",
       "Kalkere                               10\n",
       "Sadashiva Nagar                       10\n",
       "BTM 1st Stage                         10\n",
       "Basapura                              10\n",
       "Gunjur Palya                          10\n",
       "                                      ..\n",
       "poornaprajna layout                    1\n",
       "pavitra paradise                       1\n",
       "near Ramanashree California resort     1\n",
       "mvj engineering college                1\n",
       "1Kasavanhalli                          1\n",
       "Name: location, Length: 1052, dtype: int64"
      ]
     },
     "execution_count": 33,
     "metadata": {},
     "output_type": "execute_result"
    }
   ],
   "source": [
    "location_stats_less_10 = location_stats[location_stats <= 10]\n",
    "location_stats_less_10"
   ]
  },
  {
   "cell_type": "code",
   "execution_count": 36,
   "id": "8ccdb8ed",
   "metadata": {},
   "outputs": [
    {
     "data": {
      "text/plain": [
       "242"
      ]
     },
     "execution_count": 36,
     "metadata": {},
     "output_type": "execute_result"
    }
   ],
   "source": [
    "df5.location = df5.location.apply(lambda x: 'other' if x  in location_stats_less_10 else x )\n",
    "len(df5.location.unique())"
   ]
  },
  {
   "cell_type": "code",
   "execution_count": 37,
   "id": "0acf22ab",
   "metadata": {},
   "outputs": [
    {
     "data": {
      "application/vnd.microsoft.datawrangler.viewer.v0+json": {
       "columns": [
        {
         "name": "index",
         "rawType": "int64",
         "type": "integer"
        },
        {
         "name": "location",
         "rawType": "object",
         "type": "string"
        },
        {
         "name": "size",
         "rawType": "object",
         "type": "string"
        },
        {
         "name": "total_sqft",
         "rawType": "float64",
         "type": "float"
        },
        {
         "name": "bath",
         "rawType": "float64",
         "type": "float"
        },
        {
         "name": "price",
         "rawType": "float64",
         "type": "float"
        },
        {
         "name": "bhk",
         "rawType": "int64",
         "type": "integer"
        },
        {
         "name": "price_per_sqft",
         "rawType": "float64",
         "type": "float"
        }
       ],
       "conversionMethod": "pd.DataFrame",
       "ref": "570e3c11-812c-4e2d-a555-8eab26ec31b2",
       "rows": [
        [
         "0",
         "Electronic City Phase II",
         "2 BHK",
         "1056.0",
         "2.0",
         "39.07",
         "2",
         "3699.810606060606"
        ],
        [
         "1",
         "Chikka Tirupathi",
         "4 Bedroom",
         "2600.0",
         "5.0",
         "120.0",
         "4",
         "4615.384615384615"
        ],
        [
         "2",
         "Uttarahalli",
         "3 BHK",
         "1440.0",
         "2.0",
         "62.0",
         "3",
         "4305.555555555556"
        ],
        [
         "3",
         "Lingadheeranahalli",
         "3 BHK",
         "1521.0",
         "3.0",
         "95.0",
         "3",
         "6245.890861275477"
        ],
        [
         "4",
         "Kothanur",
         "2 BHK",
         "1200.0",
         "2.0",
         "51.0",
         "2",
         "4250.0"
        ],
        [
         "5",
         "Whitefield",
         "2 BHK",
         "1170.0",
         "2.0",
         "38.0",
         "2",
         "3247.863247863248"
        ],
        [
         "6",
         "Old Airport Road",
         "4 BHK",
         "2732.0",
         "4.0",
         "204.0",
         "4",
         "7467.0571010248905"
        ],
        [
         "7",
         "Rajaji Nagar",
         "4 BHK",
         "3300.0",
         "4.0",
         "600.0",
         "4",
         "18181.81818181818"
        ],
        [
         "8",
         "Marathahalli",
         "3 BHK",
         "1310.0",
         "3.0",
         "63.25",
         "3",
         "4828.244274809161"
        ],
        [
         "9",
         "other",
         "6 Bedroom",
         "1020.0",
         "6.0",
         "370.0",
         "6",
         "36274.509803921566"
        ],
        [
         "10",
         "Whitefield",
         "3 BHK",
         "1800.0",
         "2.0",
         "70.0",
         "3",
         "3888.8888888888887"
        ],
        [
         "11",
         "Whitefield",
         "4 Bedroom",
         "2785.0",
         "5.0",
         "295.0",
         "4",
         "10592.45960502693"
        ],
        [
         "12",
         "7th Phase JP Nagar",
         "2 BHK",
         "1000.0",
         "2.0",
         "38.0",
         "2",
         "3800.0"
        ],
        [
         "13",
         "Gottigere",
         "2 BHK",
         "1100.0",
         "2.0",
         "40.0",
         "2",
         "3636.3636363636365"
        ],
        [
         "14",
         "Sarjapur",
         "3 Bedroom",
         "2250.0",
         "3.0",
         "148.0",
         "3",
         "6577.777777777777"
        ],
        [
         "15",
         "Mysore Road",
         "2 BHK",
         "1175.0",
         "2.0",
         "73.5",
         "2",
         "6255.31914893617"
        ],
        [
         "16",
         "Bisuvanahalli",
         "3 BHK",
         "1180.0",
         "3.0",
         "48.0",
         "3",
         "4067.7966101694915"
        ],
        [
         "17",
         "Raja Rajeshwari Nagar",
         "3 BHK",
         "1540.0",
         "3.0",
         "60.0",
         "3",
         "3896.103896103896"
        ],
        [
         "18",
         "other",
         "3 BHK",
         "2770.0",
         "4.0",
         "290.0",
         "3",
         "10469.314079422382"
        ],
        [
         "19",
         "other",
         "2 BHK",
         "1100.0",
         "2.0",
         "48.0",
         "2",
         "4363.636363636364"
        ]
       ],
       "shape": {
        "columns": 7,
        "rows": 20
       }
      },
      "text/html": [
       "<div>\n",
       "<style scoped>\n",
       "    .dataframe tbody tr th:only-of-type {\n",
       "        vertical-align: middle;\n",
       "    }\n",
       "\n",
       "    .dataframe tbody tr th {\n",
       "        vertical-align: top;\n",
       "    }\n",
       "\n",
       "    .dataframe thead th {\n",
       "        text-align: right;\n",
       "    }\n",
       "</style>\n",
       "<table border=\"1\" class=\"dataframe\">\n",
       "  <thead>\n",
       "    <tr style=\"text-align: right;\">\n",
       "      <th></th>\n",
       "      <th>location</th>\n",
       "      <th>size</th>\n",
       "      <th>total_sqft</th>\n",
       "      <th>bath</th>\n",
       "      <th>price</th>\n",
       "      <th>bhk</th>\n",
       "      <th>price_per_sqft</th>\n",
       "    </tr>\n",
       "  </thead>\n",
       "  <tbody>\n",
       "    <tr>\n",
       "      <th>0</th>\n",
       "      <td>Electronic City Phase II</td>\n",
       "      <td>2 BHK</td>\n",
       "      <td>1056.0</td>\n",
       "      <td>2.0</td>\n",
       "      <td>39.07</td>\n",
       "      <td>2</td>\n",
       "      <td>3699.810606</td>\n",
       "    </tr>\n",
       "    <tr>\n",
       "      <th>1</th>\n",
       "      <td>Chikka Tirupathi</td>\n",
       "      <td>4 Bedroom</td>\n",
       "      <td>2600.0</td>\n",
       "      <td>5.0</td>\n",
       "      <td>120.00</td>\n",
       "      <td>4</td>\n",
       "      <td>4615.384615</td>\n",
       "    </tr>\n",
       "    <tr>\n",
       "      <th>2</th>\n",
       "      <td>Uttarahalli</td>\n",
       "      <td>3 BHK</td>\n",
       "      <td>1440.0</td>\n",
       "      <td>2.0</td>\n",
       "      <td>62.00</td>\n",
       "      <td>3</td>\n",
       "      <td>4305.555556</td>\n",
       "    </tr>\n",
       "    <tr>\n",
       "      <th>3</th>\n",
       "      <td>Lingadheeranahalli</td>\n",
       "      <td>3 BHK</td>\n",
       "      <td>1521.0</td>\n",
       "      <td>3.0</td>\n",
       "      <td>95.00</td>\n",
       "      <td>3</td>\n",
       "      <td>6245.890861</td>\n",
       "    </tr>\n",
       "    <tr>\n",
       "      <th>4</th>\n",
       "      <td>Kothanur</td>\n",
       "      <td>2 BHK</td>\n",
       "      <td>1200.0</td>\n",
       "      <td>2.0</td>\n",
       "      <td>51.00</td>\n",
       "      <td>2</td>\n",
       "      <td>4250.000000</td>\n",
       "    </tr>\n",
       "    <tr>\n",
       "      <th>5</th>\n",
       "      <td>Whitefield</td>\n",
       "      <td>2 BHK</td>\n",
       "      <td>1170.0</td>\n",
       "      <td>2.0</td>\n",
       "      <td>38.00</td>\n",
       "      <td>2</td>\n",
       "      <td>3247.863248</td>\n",
       "    </tr>\n",
       "    <tr>\n",
       "      <th>6</th>\n",
       "      <td>Old Airport Road</td>\n",
       "      <td>4 BHK</td>\n",
       "      <td>2732.0</td>\n",
       "      <td>4.0</td>\n",
       "      <td>204.00</td>\n",
       "      <td>4</td>\n",
       "      <td>7467.057101</td>\n",
       "    </tr>\n",
       "    <tr>\n",
       "      <th>7</th>\n",
       "      <td>Rajaji Nagar</td>\n",
       "      <td>4 BHK</td>\n",
       "      <td>3300.0</td>\n",
       "      <td>4.0</td>\n",
       "      <td>600.00</td>\n",
       "      <td>4</td>\n",
       "      <td>18181.818182</td>\n",
       "    </tr>\n",
       "    <tr>\n",
       "      <th>8</th>\n",
       "      <td>Marathahalli</td>\n",
       "      <td>3 BHK</td>\n",
       "      <td>1310.0</td>\n",
       "      <td>3.0</td>\n",
       "      <td>63.25</td>\n",
       "      <td>3</td>\n",
       "      <td>4828.244275</td>\n",
       "    </tr>\n",
       "    <tr>\n",
       "      <th>9</th>\n",
       "      <td>other</td>\n",
       "      <td>6 Bedroom</td>\n",
       "      <td>1020.0</td>\n",
       "      <td>6.0</td>\n",
       "      <td>370.00</td>\n",
       "      <td>6</td>\n",
       "      <td>36274.509804</td>\n",
       "    </tr>\n",
       "    <tr>\n",
       "      <th>10</th>\n",
       "      <td>Whitefield</td>\n",
       "      <td>3 BHK</td>\n",
       "      <td>1800.0</td>\n",
       "      <td>2.0</td>\n",
       "      <td>70.00</td>\n",
       "      <td>3</td>\n",
       "      <td>3888.888889</td>\n",
       "    </tr>\n",
       "    <tr>\n",
       "      <th>11</th>\n",
       "      <td>Whitefield</td>\n",
       "      <td>4 Bedroom</td>\n",
       "      <td>2785.0</td>\n",
       "      <td>5.0</td>\n",
       "      <td>295.00</td>\n",
       "      <td>4</td>\n",
       "      <td>10592.459605</td>\n",
       "    </tr>\n",
       "    <tr>\n",
       "      <th>12</th>\n",
       "      <td>7th Phase JP Nagar</td>\n",
       "      <td>2 BHK</td>\n",
       "      <td>1000.0</td>\n",
       "      <td>2.0</td>\n",
       "      <td>38.00</td>\n",
       "      <td>2</td>\n",
       "      <td>3800.000000</td>\n",
       "    </tr>\n",
       "    <tr>\n",
       "      <th>13</th>\n",
       "      <td>Gottigere</td>\n",
       "      <td>2 BHK</td>\n",
       "      <td>1100.0</td>\n",
       "      <td>2.0</td>\n",
       "      <td>40.00</td>\n",
       "      <td>2</td>\n",
       "      <td>3636.363636</td>\n",
       "    </tr>\n",
       "    <tr>\n",
       "      <th>14</th>\n",
       "      <td>Sarjapur</td>\n",
       "      <td>3 Bedroom</td>\n",
       "      <td>2250.0</td>\n",
       "      <td>3.0</td>\n",
       "      <td>148.00</td>\n",
       "      <td>3</td>\n",
       "      <td>6577.777778</td>\n",
       "    </tr>\n",
       "    <tr>\n",
       "      <th>15</th>\n",
       "      <td>Mysore Road</td>\n",
       "      <td>2 BHK</td>\n",
       "      <td>1175.0</td>\n",
       "      <td>2.0</td>\n",
       "      <td>73.50</td>\n",
       "      <td>2</td>\n",
       "      <td>6255.319149</td>\n",
       "    </tr>\n",
       "    <tr>\n",
       "      <th>16</th>\n",
       "      <td>Bisuvanahalli</td>\n",
       "      <td>3 BHK</td>\n",
       "      <td>1180.0</td>\n",
       "      <td>3.0</td>\n",
       "      <td>48.00</td>\n",
       "      <td>3</td>\n",
       "      <td>4067.796610</td>\n",
       "    </tr>\n",
       "    <tr>\n",
       "      <th>17</th>\n",
       "      <td>Raja Rajeshwari Nagar</td>\n",
       "      <td>3 BHK</td>\n",
       "      <td>1540.0</td>\n",
       "      <td>3.0</td>\n",
       "      <td>60.00</td>\n",
       "      <td>3</td>\n",
       "      <td>3896.103896</td>\n",
       "    </tr>\n",
       "    <tr>\n",
       "      <th>18</th>\n",
       "      <td>other</td>\n",
       "      <td>3 BHK</td>\n",
       "      <td>2770.0</td>\n",
       "      <td>4.0</td>\n",
       "      <td>290.00</td>\n",
       "      <td>3</td>\n",
       "      <td>10469.314079</td>\n",
       "    </tr>\n",
       "    <tr>\n",
       "      <th>19</th>\n",
       "      <td>other</td>\n",
       "      <td>2 BHK</td>\n",
       "      <td>1100.0</td>\n",
       "      <td>2.0</td>\n",
       "      <td>48.00</td>\n",
       "      <td>2</td>\n",
       "      <td>4363.636364</td>\n",
       "    </tr>\n",
       "  </tbody>\n",
       "</table>\n",
       "</div>"
      ],
      "text/plain": [
       "                    location       size  total_sqft  bath   price  bhk  \\\n",
       "0   Electronic City Phase II      2 BHK      1056.0   2.0   39.07    2   \n",
       "1           Chikka Tirupathi  4 Bedroom      2600.0   5.0  120.00    4   \n",
       "2                Uttarahalli      3 BHK      1440.0   2.0   62.00    3   \n",
       "3         Lingadheeranahalli      3 BHK      1521.0   3.0   95.00    3   \n",
       "4                   Kothanur      2 BHK      1200.0   2.0   51.00    2   \n",
       "5                 Whitefield      2 BHK      1170.0   2.0   38.00    2   \n",
       "6           Old Airport Road      4 BHK      2732.0   4.0  204.00    4   \n",
       "7               Rajaji Nagar      4 BHK      3300.0   4.0  600.00    4   \n",
       "8               Marathahalli      3 BHK      1310.0   3.0   63.25    3   \n",
       "9                      other  6 Bedroom      1020.0   6.0  370.00    6   \n",
       "10                Whitefield      3 BHK      1800.0   2.0   70.00    3   \n",
       "11                Whitefield  4 Bedroom      2785.0   5.0  295.00    4   \n",
       "12        7th Phase JP Nagar      2 BHK      1000.0   2.0   38.00    2   \n",
       "13                 Gottigere      2 BHK      1100.0   2.0   40.00    2   \n",
       "14                  Sarjapur  3 Bedroom      2250.0   3.0  148.00    3   \n",
       "15               Mysore Road      2 BHK      1175.0   2.0   73.50    2   \n",
       "16             Bisuvanahalli      3 BHK      1180.0   3.0   48.00    3   \n",
       "17     Raja Rajeshwari Nagar      3 BHK      1540.0   3.0   60.00    3   \n",
       "18                     other      3 BHK      2770.0   4.0  290.00    3   \n",
       "19                     other      2 BHK      1100.0   2.0   48.00    2   \n",
       "\n",
       "    price_per_sqft  \n",
       "0      3699.810606  \n",
       "1      4615.384615  \n",
       "2      4305.555556  \n",
       "3      6245.890861  \n",
       "4      4250.000000  \n",
       "5      3247.863248  \n",
       "6      7467.057101  \n",
       "7     18181.818182  \n",
       "8      4828.244275  \n",
       "9     36274.509804  \n",
       "10     3888.888889  \n",
       "11    10592.459605  \n",
       "12     3800.000000  \n",
       "13     3636.363636  \n",
       "14     6577.777778  \n",
       "15     6255.319149  \n",
       "16     4067.796610  \n",
       "17     3896.103896  \n",
       "18    10469.314079  \n",
       "19     4363.636364  "
      ]
     },
     "execution_count": 37,
     "metadata": {},
     "output_type": "execute_result"
    }
   ],
   "source": [
    "df5.head(20)"
   ]
  },
  {
   "cell_type": "code",
   "execution_count": 38,
   "id": "1910819d",
   "metadata": {},
   "outputs": [
    {
     "data": {
      "application/vnd.microsoft.datawrangler.viewer.v0+json": {
       "columns": [
        {
         "name": "index",
         "rawType": "int64",
         "type": "integer"
        },
        {
         "name": "location",
         "rawType": "object",
         "type": "string"
        },
        {
         "name": "size",
         "rawType": "object",
         "type": "string"
        },
        {
         "name": "total_sqft",
         "rawType": "float64",
         "type": "float"
        },
        {
         "name": "bath",
         "rawType": "float64",
         "type": "float"
        },
        {
         "name": "price",
         "rawType": "float64",
         "type": "float"
        },
        {
         "name": "bhk",
         "rawType": "int64",
         "type": "integer"
        },
        {
         "name": "price_per_sqft",
         "rawType": "float64",
         "type": "float"
        }
       ],
       "conversionMethod": "pd.DataFrame",
       "ref": "62544a3a-6363-4f54-94bd-429e406bb86e",
       "rows": [
        [
         "9",
         "other",
         "6 Bedroom",
         "1020.0",
         "6.0",
         "370.0",
         "6",
         "36274.509803921566"
        ],
        [
         "45",
         "HSR Layout",
         "8 Bedroom",
         "600.0",
         "9.0",
         "200.0",
         "8",
         "33333.333333333336"
        ],
        [
         "58",
         "Murugeshpalya",
         "6 Bedroom",
         "1407.0",
         "4.0",
         "150.0",
         "6",
         "10660.980810234541"
        ],
        [
         "68",
         "Devarachikkanahalli",
         "8 Bedroom",
         "1350.0",
         "7.0",
         "85.0",
         "8",
         "6296.2962962962965"
        ],
        [
         "70",
         "other",
         "3 Bedroom",
         "500.0",
         "3.0",
         "100.0",
         "3",
         "20000.0"
        ]
       ],
       "shape": {
        "columns": 7,
        "rows": 5
       }
      },
      "text/html": [
       "<div>\n",
       "<style scoped>\n",
       "    .dataframe tbody tr th:only-of-type {\n",
       "        vertical-align: middle;\n",
       "    }\n",
       "\n",
       "    .dataframe tbody tr th {\n",
       "        vertical-align: top;\n",
       "    }\n",
       "\n",
       "    .dataframe thead th {\n",
       "        text-align: right;\n",
       "    }\n",
       "</style>\n",
       "<table border=\"1\" class=\"dataframe\">\n",
       "  <thead>\n",
       "    <tr style=\"text-align: right;\">\n",
       "      <th></th>\n",
       "      <th>location</th>\n",
       "      <th>size</th>\n",
       "      <th>total_sqft</th>\n",
       "      <th>bath</th>\n",
       "      <th>price</th>\n",
       "      <th>bhk</th>\n",
       "      <th>price_per_sqft</th>\n",
       "    </tr>\n",
       "  </thead>\n",
       "  <tbody>\n",
       "    <tr>\n",
       "      <th>9</th>\n",
       "      <td>other</td>\n",
       "      <td>6 Bedroom</td>\n",
       "      <td>1020.0</td>\n",
       "      <td>6.0</td>\n",
       "      <td>370.0</td>\n",
       "      <td>6</td>\n",
       "      <td>36274.509804</td>\n",
       "    </tr>\n",
       "    <tr>\n",
       "      <th>45</th>\n",
       "      <td>HSR Layout</td>\n",
       "      <td>8 Bedroom</td>\n",
       "      <td>600.0</td>\n",
       "      <td>9.0</td>\n",
       "      <td>200.0</td>\n",
       "      <td>8</td>\n",
       "      <td>33333.333333</td>\n",
       "    </tr>\n",
       "    <tr>\n",
       "      <th>58</th>\n",
       "      <td>Murugeshpalya</td>\n",
       "      <td>6 Bedroom</td>\n",
       "      <td>1407.0</td>\n",
       "      <td>4.0</td>\n",
       "      <td>150.0</td>\n",
       "      <td>6</td>\n",
       "      <td>10660.980810</td>\n",
       "    </tr>\n",
       "    <tr>\n",
       "      <th>68</th>\n",
       "      <td>Devarachikkanahalli</td>\n",
       "      <td>8 Bedroom</td>\n",
       "      <td>1350.0</td>\n",
       "      <td>7.0</td>\n",
       "      <td>85.0</td>\n",
       "      <td>8</td>\n",
       "      <td>6296.296296</td>\n",
       "    </tr>\n",
       "    <tr>\n",
       "      <th>70</th>\n",
       "      <td>other</td>\n",
       "      <td>3 Bedroom</td>\n",
       "      <td>500.0</td>\n",
       "      <td>3.0</td>\n",
       "      <td>100.0</td>\n",
       "      <td>3</td>\n",
       "      <td>20000.000000</td>\n",
       "    </tr>\n",
       "  </tbody>\n",
       "</table>\n",
       "</div>"
      ],
      "text/plain": [
       "               location       size  total_sqft  bath  price  bhk  \\\n",
       "9                 other  6 Bedroom      1020.0   6.0  370.0    6   \n",
       "45           HSR Layout  8 Bedroom       600.0   9.0  200.0    8   \n",
       "58        Murugeshpalya  6 Bedroom      1407.0   4.0  150.0    6   \n",
       "68  Devarachikkanahalli  8 Bedroom      1350.0   7.0   85.0    8   \n",
       "70                other  3 Bedroom       500.0   3.0  100.0    3   \n",
       "\n",
       "    price_per_sqft  \n",
       "9     36274.509804  \n",
       "45    33333.333333  \n",
       "58    10660.980810  \n",
       "68     6296.296296  \n",
       "70    20000.000000  "
      ]
     },
     "execution_count": 38,
     "metadata": {},
     "output_type": "execute_result"
    }
   ],
   "source": [
    "df5[df5.total_sqft/df5.bhk <300].head()"
   ]
  },
  {
   "cell_type": "code",
   "execution_count": 39,
   "id": "d7442be9",
   "metadata": {},
   "outputs": [
    {
     "data": {
      "text/plain": [
       "(13246, 7)"
      ]
     },
     "execution_count": 39,
     "metadata": {},
     "output_type": "execute_result"
    }
   ],
   "source": [
    "df5.shape\n"
   ]
  },
  {
   "cell_type": "code",
   "execution_count": 40,
   "id": "266bd4e6",
   "metadata": {},
   "outputs": [
    {
     "data": {
      "text/plain": [
       "(12502, 7)"
      ]
     },
     "execution_count": 40,
     "metadata": {},
     "output_type": "execute_result"
    }
   ],
   "source": [
    "df6 = df5[~(df5.total_sqft / df5.bhk < 300)]\n",
    "df6.shape"
   ]
  },
  {
   "cell_type": "code",
   "execution_count": 41,
   "id": "b0630d60",
   "metadata": {},
   "outputs": [
    {
     "data": {
      "text/plain": [
       "count     12456.000000\n",
       "mean       6308.502826\n",
       "std        4168.127339\n",
       "min         267.829813\n",
       "25%        4210.526316\n",
       "50%        5294.117647\n",
       "75%        6916.666667\n",
       "max      176470.588235\n",
       "Name: price_per_sqft, dtype: float64"
      ]
     },
     "execution_count": 41,
     "metadata": {},
     "output_type": "execute_result"
    }
   ],
   "source": [
    "df6.price_per_sqft.describe()"
   ]
  },
  {
   "cell_type": "code",
   "execution_count": 43,
   "id": "5dd664ae",
   "metadata": {},
   "outputs": [
    {
     "data": {
      "text/plain": [
       "(10241, 7)"
      ]
     },
     "execution_count": 43,
     "metadata": {},
     "output_type": "execute_result"
    }
   ],
   "source": [
    "#remove outliers \n",
    "def remove_pps_outliers(df):\n",
    "    df_out = pd.DataFrame()\n",
    "    for key, subdf in df.groupby('location'):\n",
    "        m = np.mean(subdf.price_per_sqft)\n",
    "        st = np.std(subdf.price_per_sqft)\n",
    "        reduced_df = subdf[(subdf.price_per_sqft > (m-st)) & (subdf.price_per_sqft <= (m+st))]\n",
    "        df_out = pd.concat([df_out, reduced_df], ignore_index=True)\n",
    "\n",
    "    return df_out\n",
    "\n",
    "df7 = remove_pps_outliers(df6)\n",
    "df7.shape"
   ]
  },
  {
   "cell_type": "code",
   "execution_count": null,
   "id": "818b578c",
   "metadata": {},
   "outputs": [],
   "source": []
  }
 ],
 "metadata": {
  "kernelspec": {
   "display_name": "Analytics",
   "language": "python",
   "name": "python3"
  },
  "language_info": {
   "codemirror_mode": {
    "name": "ipython",
    "version": 3
   },
   "file_extension": ".py",
   "mimetype": "text/x-python",
   "name": "python",
   "nbconvert_exporter": "python",
   "pygments_lexer": "ipython3",
   "version": "3.12.9"
  }
 },
 "nbformat": 4,
 "nbformat_minor": 5
}
